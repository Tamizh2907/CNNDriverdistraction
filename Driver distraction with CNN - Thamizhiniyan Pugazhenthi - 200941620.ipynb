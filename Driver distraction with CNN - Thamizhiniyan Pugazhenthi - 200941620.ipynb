{
 "cells": [
  {
   "cell_type": "markdown",
   "id": "9de12996",
   "metadata": {},
   "source": [
    "# Detection of distracted driver using Convolutional Neural Networks"
   ]
  },
  {
   "cell_type": "markdown",
   "id": "52a0f6a5",
   "metadata": {},
   "source": [
    "### Thamizhiniyan Pugazhenthi - 200941620"
   ]
  },
  {
   "cell_type": "markdown",
   "id": "753a9381",
   "metadata": {},
   "source": [
    "### Introduction"
   ]
  },
  {
   "cell_type": "markdown",
   "id": "267ecde8",
   "metadata": {},
   "source": [
    "Machine learning  is the study of computer algorithms that may improve themselves over time by gaining experience and using data. Machine learning algorithms create a model based on training data to make predictions or judgments without having to be explicitly programmed to do so. Like the description, we will build a model to detect the distracted driver with Machine Learning using Convolutional Neural Networks and train the model with the training and validation set before predict them with the test images given."
   ]
  },
  {
   "cell_type": "markdown",
   "id": "fbdb111d",
   "metadata": {},
   "source": [
    "### Dataset description"
   ]
  },
  {
   "cell_type": "markdown",
   "id": "1a3f4857",
   "metadata": {},
   "source": [
    "The dataset had set of training and test images. The training data splitted into ten classes from c0 to c9. The 10 classes to predict are:\n",
    "\n",
    "    c0: normal driving\n",
    "    c1: texting - right\n",
    "    c2: talking on the phone - right\n",
    "    c3: texting - left\n",
    "    c4: talking on the phone - left\n",
    "    c5: operating the radio\n",
    "    c6: drinking\n",
    "    c7: reaching behind\n",
    "    c8: hair and makeup\n",
    "    c9: talking to passenger\n",
    "    \n",
    "Along with the set of images, two csv files were presented to assist our project. One with the details about the name of the images along with the class and another sample csv to show the submission format of the project."
   ]
  },
  {
   "cell_type": "markdown",
   "id": "98f965a4",
   "metadata": {},
   "source": [
    "### Libraries"
   ]
  },
  {
   "cell_type": "markdown",
   "id": "4f541f3d",
   "metadata": {},
   "source": [
    "The libraries were imported to support our project. The assistance of tensorflow and keras is vital to proceed ahead. With matplot to plot charts and pandas to perform csv read and write operations."
   ]
  },
  {
   "cell_type": "code",
   "execution_count": 43,
   "id": "d8a29e26",
   "metadata": {},
   "outputs": [],
   "source": [
    "import os\n",
    "from os.path import join\n",
    "import tensorflow as tf\n",
    "import keras_preprocessing\n",
    "from keras_preprocessing import image\n",
    "from keras_preprocessing.image import ImageDataGenerator\n",
    "import matplotlib.pyplot as plt\n",
    "import pandas as pd"
   ]
  },
  {
   "cell_type": "markdown",
   "id": "d77a516b",
   "metadata": {},
   "source": [
    "### Model"
   ]
  },
  {
   "cell_type": "markdown",
   "id": "0bc034e7",
   "metadata": {},
   "source": [
    "The Convolutional Neural Network was constructed with input size of (100,100) with the '3' represents 'rgb' format of the image. With Batch normalization, we can standardize the data in between convolutional layers. Maxpooling is to find out the maximum value from the region covered by filter and the data will be converted to one dimensional array using flatten and dropout will help us to prevent overfitting. The hidden dense layers were added to improve efficiency and with the final dense layer represents output with 10 classes. The optimizer 'adam' was used to compile the model."
   ]
  },
  {
   "cell_type": "code",
   "execution_count": 3,
   "id": "fc401350",
   "metadata": {},
   "outputs": [
    {
     "name": "stdout",
     "output_type": "stream",
     "text": [
      "Model: \"sequential\"\n",
      "_________________________________________________________________\n",
      "Layer (type)                 Output Shape              Param #   \n",
      "=================================================================\n",
      "conv2d (Conv2D)              (None, 98, 98, 32)        896       \n",
      "_________________________________________________________________\n",
      "batch_normalization (BatchNo (None, 98, 98, 32)        128       \n",
      "_________________________________________________________________\n",
      "max_pooling2d (MaxPooling2D) (None, 49, 49, 32)        0         \n",
      "_________________________________________________________________\n",
      "conv2d_1 (Conv2D)            (None, 49, 49, 64)        18496     \n",
      "_________________________________________________________________\n",
      "batch_normalization_1 (Batch (None, 49, 49, 64)        256       \n",
      "_________________________________________________________________\n",
      "conv2d_2 (Conv2D)            (None, 49, 49, 64)        36928     \n",
      "_________________________________________________________________\n",
      "batch_normalization_2 (Batch (None, 49, 49, 64)        256       \n",
      "_________________________________________________________________\n",
      "max_pooling2d_1 (MaxPooling2 (None, 24, 24, 64)        0         \n",
      "_________________________________________________________________\n",
      "conv2d_3 (Conv2D)            (None, 24, 24, 128)       73856     \n",
      "_________________________________________________________________\n",
      "batch_normalization_3 (Batch (None, 24, 24, 128)       512       \n",
      "_________________________________________________________________\n",
      "flatten (Flatten)            (None, 73728)             0         \n",
      "_________________________________________________________________\n",
      "dropout (Dropout)            (None, 73728)             0         \n",
      "_________________________________________________________________\n",
      "dense (Dense)                (None, 1024)              75498496  \n",
      "_________________________________________________________________\n",
      "dense_1 (Dense)              (None, 512)               524800    \n",
      "_________________________________________________________________\n",
      "dense_2 (Dense)              (None, 10)                5130      \n",
      "=================================================================\n",
      "Total params: 76,159,754\n",
      "Trainable params: 76,159,178\n",
      "Non-trainable params: 576\n",
      "_________________________________________________________________\n"
     ]
    }
   ],
   "source": [
    "cnnmodel = tf.keras.models.Sequential([\n",
    "    tf.keras.layers.Conv2D(32, (3,3), activation='relu', input_shape=(100, 100, 3)),\n",
    "    tf.keras.layers.BatchNormalization(),\n",
    "    tf.keras.layers.MaxPooling2D(2,2),\n",
    "    tf.keras.layers.Conv2D(64, (3,3), activation='relu', padding = 'same'),\n",
    "    tf.keras.layers.BatchNormalization(),\n",
    "    tf.keras.layers.Conv2D(64, (3,3), activation='relu', padding = 'same'),\n",
    "    tf.keras.layers.BatchNormalization(),\n",
    "    tf.keras.layers.MaxPooling2D(2,2),\n",
    "    tf.keras.layers.Conv2D(128, (3,3), activation='relu', padding = 'same'),\n",
    "    tf.keras.layers.BatchNormalization(),\n",
    "    tf.keras.layers.Flatten(),\n",
    "    tf.keras.layers.Dropout(0.5),\n",
    "    tf.keras.layers.Dense(1024, activation='relu'),\n",
    "    tf.keras.layers.Dense(512, activation='relu'),\n",
    "    tf.keras.layers.Dense(10, activation='softmax')\n",
    "    ])\n",
    "cnnmodel.compile(loss = 'categorical_crossentropy', optimizer = 'adam', metrics = ['accuracy'])\n",
    "cnnmodel.summary()"
   ]
  },
  {
   "cell_type": "markdown",
   "id": "fba8e6cc",
   "metadata": {},
   "source": [
    "### Data preprocessing"
   ]
  },
  {
   "cell_type": "markdown",
   "id": "4078d940",
   "metadata": {},
   "source": [
    "The working directory was set to acccess the folder contains training images."
   ]
  },
  {
   "cell_type": "code",
   "execution_count": 4,
   "id": "0a5694ab",
   "metadata": {},
   "outputs": [],
   "source": [
    "workingdir = os.path.abspath('')\n",
    "trainingdirectory = os.path.join(workingdir + '/state-farm-distracted-driver-detection/imgs/train/')"
   ]
  },
  {
   "cell_type": "markdown",
   "id": "85824c96",
   "metadata": {},
   "source": [
    "### Train and validation dataset split"
   ]
  },
  {
   "cell_type": "markdown",
   "id": "167c914c",
   "metadata": {},
   "source": [
    "Image generator was built to get access of images from the training folder. The data augumentation was used to generalize the model with horizontal flip, width and heigth shift range and rotation range. To improve the model, the training data were splitted into training and validation data in the ratio of 80:20. From the generator, the training and validation set can be accessed in the batch size of 64."
   ]
  },
  {
   "cell_type": "code",
   "execution_count": 5,
   "id": "01756e44",
   "metadata": {},
   "outputs": [
    {
     "name": "stdout",
     "output_type": "stream",
     "text": [
      "Found 17943 images belonging to 10 classes.\n",
      "Found 4481 images belonging to 10 classes.\n"
     ]
    }
   ],
   "source": [
    "trainingdataimage = ImageDataGenerator(rescale = 1./255, height_shift_range = 0.2,\n",
    "                                        width_shift_range = 0.2, shear_range = 0.2, rotation_range = 40, zoom_range = 0.2, \n",
    "                                        fill_mode = 'nearest', horizontal_flip = True, validation_split = 0.2)\n",
    "trainingset = trainingdataimage.flow_from_directory(trainingdirectory, \n",
    "                                                            target_size = (100, 100), batch_size = 64, \n",
    "                                                            class_mode = 'categorical', subset = 'training', shuffle = True)\n",
    "validationset = trainingdataimage.flow_from_directory(trainingdirectory, \n",
    "                                                            target_size = (100, 100), batch_size = 64, \n",
    "                                                            class_mode = 'categorical', subset = 'validation', shuffle = True)"
   ]
  },
  {
   "cell_type": "markdown",
   "id": "e68e3d5e",
   "metadata": {},
   "source": [
    "### Model fit"
   ]
  },
  {
   "cell_type": "markdown",
   "id": "4a418316",
   "metadata": {},
   "source": [
    "The training and validation images made to fit with the CNN model on 60 iterations with steps per iteration will be length of the image generator of training set and length of image generator of validation set was denoted as validation steps."
   ]
  },
  {
   "cell_type": "code",
   "execution_count": 6,
   "id": "ac5547ea",
   "metadata": {},
   "outputs": [
    {
     "name": "stdout",
     "output_type": "stream",
     "text": [
      "Epoch 1/100\n",
      "281/281 [==============================] - 148s 488ms/step - loss: 2.4414 - accuracy: 0.1635 - val_loss: 4.3076 - val_accuracy: 0.1029\n",
      "Epoch 2/100\n",
      "281/281 [==============================] - 122s 435ms/step - loss: 1.8286 - accuracy: 0.3173 - val_loss: 1.9818 - val_accuracy: 0.2584\n",
      "Epoch 3/100\n",
      "281/281 [==============================] - 130s 464ms/step - loss: 1.4419 - accuracy: 0.4667 - val_loss: 1.4742 - val_accuracy: 0.4720\n",
      "Epoch 4/100\n",
      "281/281 [==============================] - 138s 491ms/step - loss: 1.1670 - accuracy: 0.5744 - val_loss: 1.1714 - val_accuracy: 0.5775\n",
      "Epoch 5/100\n",
      "281/281 [==============================] - 138s 490ms/step - loss: 0.9647 - accuracy: 0.6579 - val_loss: 1.0323 - val_accuracy: 0.6523\n",
      "Epoch 6/100\n",
      "281/281 [==============================] - 141s 502ms/step - loss: 0.7974 - accuracy: 0.7266 - val_loss: 1.0666 - val_accuracy: 0.6746\n",
      "Epoch 7/100\n",
      "281/281 [==============================] - 139s 493ms/step - loss: 0.6497 - accuracy: 0.7790 - val_loss: 1.3936 - val_accuracy: 0.5791\n",
      "Epoch 8/100\n",
      "281/281 [==============================] - 137s 486ms/step - loss: 0.5769 - accuracy: 0.8069 - val_loss: 0.9682 - val_accuracy: 0.6954\n",
      "Epoch 9/100\n",
      "281/281 [==============================] - 151s 538ms/step - loss: 0.5109 - accuracy: 0.8285 - val_loss: 0.9519 - val_accuracy: 0.7148\n",
      "Epoch 10/100\n",
      "281/281 [==============================] - 137s 487ms/step - loss: 0.4517 - accuracy: 0.8492 - val_loss: 0.8535 - val_accuracy: 0.7626\n",
      "Epoch 11/100\n",
      "281/281 [==============================] - 133s 473ms/step - loss: 0.4151 - accuracy: 0.8638 - val_loss: 0.5685 - val_accuracy: 0.8228\n",
      "Epoch 12/100\n",
      "281/281 [==============================] - 131s 467ms/step - loss: 0.3923 - accuracy: 0.8735 - val_loss: 0.9384 - val_accuracy: 0.7340\n",
      "Epoch 13/100\n",
      "281/281 [==============================] - 133s 474ms/step - loss: 0.3725 - accuracy: 0.8794 - val_loss: 0.4266 - val_accuracy: 0.8592\n",
      "Epoch 14/100\n",
      "281/281 [==============================] - 133s 474ms/step - loss: 0.3609 - accuracy: 0.8825 - val_loss: 0.4366 - val_accuracy: 0.8576\n",
      "Epoch 15/100\n",
      "281/281 [==============================] - 134s 477ms/step - loss: 0.3286 - accuracy: 0.8933 - val_loss: 0.8717 - val_accuracy: 0.7393\n",
      "Epoch 16/100\n",
      "281/281 [==============================] - 136s 484ms/step - loss: 0.3130 - accuracy: 0.9001 - val_loss: 0.7410 - val_accuracy: 0.7967\n",
      "Epoch 17/100\n",
      "281/281 [==============================] - 132s 469ms/step - loss: 0.3092 - accuracy: 0.8998 - val_loss: 0.3593 - val_accuracy: 0.8806\n",
      "Epoch 18/100\n",
      "281/281 [==============================] - 134s 477ms/step - loss: 0.2896 - accuracy: 0.9070 - val_loss: 0.4192 - val_accuracy: 0.8688\n",
      "Epoch 19/100\n",
      "281/281 [==============================] - 133s 472ms/step - loss: 0.2694 - accuracy: 0.9137 - val_loss: 0.3361 - val_accuracy: 0.8998\n",
      "Epoch 20/100\n",
      "281/281 [==============================] - 129s 458ms/step - loss: 0.2699 - accuracy: 0.9161 - val_loss: 0.3338 - val_accuracy: 0.8940\n",
      "Epoch 21/100\n",
      "281/281 [==============================] - 129s 459ms/step - loss: 0.2624 - accuracy: 0.9152 - val_loss: 0.3663 - val_accuracy: 0.8877\n",
      "Epoch 22/100\n",
      "281/281 [==============================] - 131s 467ms/step - loss: 0.2501 - accuracy: 0.9185 - val_loss: 0.4382 - val_accuracy: 0.8639\n",
      "Epoch 23/100\n",
      "281/281 [==============================] - 130s 461ms/step - loss: 0.2519 - accuracy: 0.9197 - val_loss: 0.5820 - val_accuracy: 0.8384\n",
      "Epoch 24/100\n",
      "281/281 [==============================] - 139s 495ms/step - loss: 0.2426 - accuracy: 0.9240 - val_loss: 0.3229 - val_accuracy: 0.9034\n",
      "Epoch 25/100\n",
      "281/281 [==============================] - 143s 510ms/step - loss: 0.2282 - accuracy: 0.9280 - val_loss: 0.3494 - val_accuracy: 0.8940\n",
      "Epoch 26/100\n",
      "281/281 [==============================] - 138s 491ms/step - loss: 0.2282 - accuracy: 0.9289 - val_loss: 0.3791 - val_accuracy: 0.8851\n",
      "Epoch 27/100\n",
      "281/281 [==============================] - 132s 471ms/step - loss: 0.2201 - accuracy: 0.9288 - val_loss: 0.2320 - val_accuracy: 0.9252\n",
      "Epoch 28/100\n",
      "281/281 [==============================] - 135s 479ms/step - loss: 0.2207 - accuracy: 0.9312 - val_loss: 0.3931 - val_accuracy: 0.8826\n",
      "Epoch 29/100\n",
      "281/281 [==============================] - 135s 481ms/step - loss: 0.2179 - accuracy: 0.9318 - val_loss: 0.2930 - val_accuracy: 0.9092\n",
      "Epoch 30/100\n",
      "281/281 [==============================] - 131s 467ms/step - loss: 0.2057 - accuracy: 0.9370 - val_loss: 0.4461 - val_accuracy: 0.8652\n",
      "Epoch 31/100\n",
      "281/281 [==============================] - 138s 490ms/step - loss: 0.2061 - accuracy: 0.9357 - val_loss: 0.2509 - val_accuracy: 0.9185\n",
      "Epoch 32/100\n",
      "281/281 [==============================] - 136s 483ms/step - loss: 0.2046 - accuracy: 0.9359 - val_loss: 0.3411 - val_accuracy: 0.8969\n",
      "Epoch 33/100\n",
      "281/281 [==============================] - 132s 470ms/step - loss: 0.1978 - accuracy: 0.9385 - val_loss: 0.4390 - val_accuracy: 0.8788\n",
      "Epoch 34/100\n",
      "281/281 [==============================] - 132s 469ms/step - loss: 0.1877 - accuracy: 0.9420 - val_loss: 0.4584 - val_accuracy: 0.8630\n",
      "Epoch 35/100\n",
      "281/281 [==============================] - 137s 489ms/step - loss: 0.1880 - accuracy: 0.9418 - val_loss: 0.2382 - val_accuracy: 0.9255\n",
      "Epoch 36/100\n",
      "281/281 [==============================] - 134s 477ms/step - loss: 0.1781 - accuracy: 0.9434 - val_loss: 0.3078 - val_accuracy: 0.9114\n",
      "Epoch 37/100\n",
      "281/281 [==============================] - 133s 471ms/step - loss: 0.1858 - accuracy: 0.9437 - val_loss: 0.3713 - val_accuracy: 0.8873\n",
      "Epoch 38/100\n",
      "281/281 [==============================] - 134s 476ms/step - loss: 0.1820 - accuracy: 0.9449 - val_loss: 0.2263 - val_accuracy: 0.9250\n",
      "Epoch 39/100\n",
      "281/281 [==============================] - 134s 477ms/step - loss: 0.1809 - accuracy: 0.9453 - val_loss: 0.4650 - val_accuracy: 0.8726\n",
      "Epoch 40/100\n",
      "281/281 [==============================] - 138s 489ms/step - loss: 0.1663 - accuracy: 0.9474 - val_loss: 0.1690 - val_accuracy: 0.9489\n",
      "Epoch 41/100\n",
      "281/281 [==============================] - 134s 475ms/step - loss: 0.1723 - accuracy: 0.9473 - val_loss: 0.3327 - val_accuracy: 0.9005\n",
      "Epoch 42/100\n",
      "281/281 [==============================] - 135s 480ms/step - loss: 0.1550 - accuracy: 0.9540 - val_loss: 0.3882 - val_accuracy: 0.8846\n",
      "Epoch 43/100\n",
      "281/281 [==============================] - 132s 469ms/step - loss: 0.1609 - accuracy: 0.9493 - val_loss: 0.3929 - val_accuracy: 0.8922\n",
      "Epoch 44/100\n",
      "281/281 [==============================] - 136s 485ms/step - loss: 0.1642 - accuracy: 0.9512 - val_loss: 0.2316 - val_accuracy: 0.9284\n",
      "Epoch 45/100\n",
      "281/281 [==============================] - 134s 476ms/step - loss: 0.1565 - accuracy: 0.9503 - val_loss: 0.2183 - val_accuracy: 0.9366\n",
      "Epoch 46/100\n",
      "281/281 [==============================] - 135s 481ms/step - loss: 0.1549 - accuracy: 0.9537 - val_loss: 0.2164 - val_accuracy: 0.9299\n",
      "Epoch 47/100\n",
      "281/281 [==============================] - 134s 476ms/step - loss: 0.1645 - accuracy: 0.9500 - val_loss: 0.2303 - val_accuracy: 0.9331\n",
      "Epoch 48/100\n",
      "281/281 [==============================] - 134s 477ms/step - loss: 0.1439 - accuracy: 0.9574 - val_loss: 0.7071 - val_accuracy: 0.8511\n",
      "Epoch 49/100\n",
      "281/281 [==============================] - 135s 480ms/step - loss: 0.1481 - accuracy: 0.9561 - val_loss: 0.1810 - val_accuracy: 0.9440\n",
      "Epoch 50/100\n",
      "281/281 [==============================] - 134s 477ms/step - loss: 0.1380 - accuracy: 0.9586 - val_loss: 0.2181 - val_accuracy: 0.9355\n",
      "Epoch 51/100\n",
      "281/281 [==============================] - 133s 471ms/step - loss: 0.1419 - accuracy: 0.9570 - val_loss: 0.1824 - val_accuracy: 0.9460\n",
      "Epoch 52/100\n",
      "281/281 [==============================] - 134s 476ms/step - loss: 0.1348 - accuracy: 0.9591 - val_loss: 0.3641 - val_accuracy: 0.9016\n",
      "Epoch 53/100\n",
      "281/281 [==============================] - 130s 463ms/step - loss: 0.1455 - accuracy: 0.9556 - val_loss: 0.1847 - val_accuracy: 0.9453\n",
      "Epoch 54/100\n",
      "281/281 [==============================] - 130s 461ms/step - loss: 0.1391 - accuracy: 0.9585 - val_loss: 0.2141 - val_accuracy: 0.9384\n",
      "Epoch 55/100\n",
      "281/281 [==============================] - 128s 455ms/step - loss: 0.1330 - accuracy: 0.9585 - val_loss: 0.1290 - val_accuracy: 0.9621\n",
      "Epoch 56/100\n"
     ]
    },
    {
     "name": "stdout",
     "output_type": "stream",
     "text": [
      "281/281 [==============================] - 125s 446ms/step - loss: 0.1398 - accuracy: 0.9593 - val_loss: 0.4562 - val_accuracy: 0.8753\n",
      "Epoch 57/100\n",
      "281/281 [==============================] - 126s 449ms/step - loss: 0.1296 - accuracy: 0.9607 - val_loss: 0.3413 - val_accuracy: 0.9141\n",
      "Epoch 58/100\n",
      "281/281 [==============================] - 127s 453ms/step - loss: 0.1247 - accuracy: 0.9628 - val_loss: 0.2970 - val_accuracy: 0.9125\n",
      "Epoch 59/100\n",
      "281/281 [==============================] - 125s 445ms/step - loss: 0.1313 - accuracy: 0.9622 - val_loss: 0.4540 - val_accuracy: 0.8732\n",
      "Epoch 60/100\n",
      "281/281 [==============================] - 128s 454ms/step - loss: 0.1260 - accuracy: 0.9628 - val_loss: 0.3031 - val_accuracy: 0.9217\n",
      "Epoch 61/100\n",
      "281/281 [==============================] - 128s 454ms/step - loss: 0.1252 - accuracy: 0.9628 - val_loss: 0.1651 - val_accuracy: 0.9514\n",
      "Epoch 62/100\n",
      "281/281 [==============================] - 126s 449ms/step - loss: 0.1312 - accuracy: 0.9608 - val_loss: 0.2239 - val_accuracy: 0.9322\n",
      "Epoch 63/100\n",
      "281/281 [==============================] - 128s 457ms/step - loss: 0.1216 - accuracy: 0.9637 - val_loss: 0.1756 - val_accuracy: 0.9536\n",
      "Epoch 64/100\n",
      "281/281 [==============================] - 129s 460ms/step - loss: 0.1215 - accuracy: 0.9653 - val_loss: 0.2039 - val_accuracy: 0.9386\n",
      "Epoch 65/100\n",
      "281/281 [==============================] - 128s 456ms/step - loss: 0.1260 - accuracy: 0.9619 - val_loss: 0.3576 - val_accuracy: 0.8996\n",
      "Epoch 66/100\n",
      "281/281 [==============================] - 128s 454ms/step - loss: 0.1215 - accuracy: 0.9624 - val_loss: 0.1782 - val_accuracy: 0.9509\n",
      "Epoch 67/100\n",
      "281/281 [==============================] - 131s 467ms/step - loss: 0.1115 - accuracy: 0.9659 - val_loss: 0.2101 - val_accuracy: 0.9384\n",
      "Epoch 68/100\n",
      "281/281 [==============================] - 143s 508ms/step - loss: 0.1031 - accuracy: 0.9671 - val_loss: 0.1660 - val_accuracy: 0.9527\n",
      "Epoch 69/100\n",
      "281/281 [==============================] - 140s 498ms/step - loss: 0.1147 - accuracy: 0.9671 - val_loss: 0.1323 - val_accuracy: 0.9621\n",
      "Epoch 70/100\n",
      "281/281 [==============================] - 136s 483ms/step - loss: 0.1102 - accuracy: 0.9682 - val_loss: 0.1676 - val_accuracy: 0.9484\n",
      "Epoch 71/100\n",
      "281/281 [==============================] - 140s 497ms/step - loss: 0.1079 - accuracy: 0.9662 - val_loss: 0.2142 - val_accuracy: 0.9391\n",
      "Epoch 72/100\n",
      "281/281 [==============================] - 142s 506ms/step - loss: 0.1108 - accuracy: 0.9666 - val_loss: 0.4616 - val_accuracy: 0.9063\n",
      "Epoch 73/100\n",
      "281/281 [==============================] - 145s 515ms/step - loss: 0.1196 - accuracy: 0.9643 - val_loss: 0.3285 - val_accuracy: 0.9221\n",
      "Epoch 74/100\n",
      "281/281 [==============================] - 147s 524ms/step - loss: 0.1172 - accuracy: 0.9652 - val_loss: 0.1829 - val_accuracy: 0.9531\n",
      "Epoch 75/100\n",
      "281/281 [==============================] - 140s 498ms/step - loss: 0.1041 - accuracy: 0.9691 - val_loss: 0.1952 - val_accuracy: 0.9429\n",
      "Epoch 76/100\n",
      "281/281 [==============================] - 137s 488ms/step - loss: 0.1039 - accuracy: 0.9691 - val_loss: 0.1683 - val_accuracy: 0.9498\n",
      "Epoch 77/100\n",
      "281/281 [==============================] - 138s 490ms/step - loss: 0.1089 - accuracy: 0.9675 - val_loss: 0.2088 - val_accuracy: 0.9397\n",
      "Epoch 78/100\n",
      "281/281 [==============================] - 133s 472ms/step - loss: 0.0998 - accuracy: 0.9690 - val_loss: 0.2884 - val_accuracy: 0.9197\n",
      "Epoch 79/100\n",
      "281/281 [==============================] - 125s 444ms/step - loss: 0.1076 - accuracy: 0.9695 - val_loss: 0.2008 - val_accuracy: 0.9411\n",
      "Epoch 80/100\n",
      "281/281 [==============================] - 128s 455ms/step - loss: 0.0975 - accuracy: 0.9696 - val_loss: 0.1886 - val_accuracy: 0.9473\n",
      "Epoch 81/100\n",
      "281/281 [==============================] - 129s 458ms/step - loss: 0.1060 - accuracy: 0.9691 - val_loss: 0.1043 - val_accuracy: 0.9659\n",
      "Epoch 82/100\n",
      "281/281 [==============================] - 128s 454ms/step - loss: 0.1043 - accuracy: 0.9690 - val_loss: 0.1850 - val_accuracy: 0.9418\n",
      "Epoch 83/100\n",
      "281/281 [==============================] - 132s 468ms/step - loss: 0.0996 - accuracy: 0.9695 - val_loss: 0.2020 - val_accuracy: 0.9368\n",
      "Epoch 84/100\n",
      "281/281 [==============================] - 137s 487ms/step - loss: 0.0953 - accuracy: 0.9707 - val_loss: 0.4018 - val_accuracy: 0.9081\n",
      "Epoch 85/100\n",
      "281/281 [==============================] - 129s 460ms/step - loss: 0.1078 - accuracy: 0.9683 - val_loss: 0.1658 - val_accuracy: 0.9469\n",
      "Epoch 86/100\n",
      "281/281 [==============================] - 130s 464ms/step - loss: 0.0933 - accuracy: 0.9722 - val_loss: 0.1341 - val_accuracy: 0.9605\n",
      "Epoch 87/100\n",
      "281/281 [==============================] - 128s 456ms/step - loss: 0.0908 - accuracy: 0.9737 - val_loss: 0.1350 - val_accuracy: 0.9614\n",
      "Epoch 88/100\n",
      "281/281 [==============================] - 128s 454ms/step - loss: 0.0997 - accuracy: 0.9693 - val_loss: 0.1343 - val_accuracy: 0.9612\n",
      "Epoch 89/100\n",
      "281/281 [==============================] - 127s 453ms/step - loss: 0.0946 - accuracy: 0.9720 - val_loss: 0.1742 - val_accuracy: 0.9531\n",
      "Epoch 90/100\n",
      "281/281 [==============================] - 127s 453ms/step - loss: 0.0882 - accuracy: 0.9743 - val_loss: 0.1188 - val_accuracy: 0.9656\n",
      "Epoch 91/100\n",
      "281/281 [==============================] - 127s 453ms/step - loss: 0.0970 - accuracy: 0.9712 - val_loss: 0.1561 - val_accuracy: 0.9529\n",
      "Epoch 92/100\n",
      "281/281 [==============================] - 127s 453ms/step - loss: 0.0937 - accuracy: 0.9716 - val_loss: 0.1481 - val_accuracy: 0.9540\n",
      "Epoch 93/100\n",
      "281/281 [==============================] - 127s 450ms/step - loss: 0.0831 - accuracy: 0.9756 - val_loss: 0.1140 - val_accuracy: 0.9690\n",
      "Epoch 94/100\n",
      "281/281 [==============================] - 127s 452ms/step - loss: 0.0887 - accuracy: 0.9730 - val_loss: 0.1110 - val_accuracy: 0.9661\n",
      "Epoch 95/100\n",
      "281/281 [==============================] - 127s 451ms/step - loss: 0.1044 - accuracy: 0.9690 - val_loss: 0.1364 - val_accuracy: 0.9594\n",
      "Epoch 96/100\n",
      "281/281 [==============================] - 128s 454ms/step - loss: 0.0971 - accuracy: 0.9713 - val_loss: 0.1050 - val_accuracy: 0.9705\n",
      "Epoch 97/100\n",
      "281/281 [==============================] - 129s 459ms/step - loss: 0.0897 - accuracy: 0.9720 - val_loss: 0.2181 - val_accuracy: 0.9391\n",
      "Epoch 98/100\n",
      "281/281 [==============================] - 129s 458ms/step - loss: 0.0870 - accuracy: 0.9746 - val_loss: 0.1498 - val_accuracy: 0.9551\n",
      "Epoch 99/100\n",
      "281/281 [==============================] - 129s 460ms/step - loss: 0.0836 - accuracy: 0.9747 - val_loss: 0.1217 - val_accuracy: 0.9656\n",
      "Epoch 100/100\n",
      "281/281 [==============================] - 129s 460ms/step - loss: 0.0947 - accuracy: 0.9720 - val_loss: 0.1144 - val_accuracy: 0.9683\n"
     ]
    }
   ],
   "source": [
    "history =  cnnmodel.fit(trainingset, epochs = 100, steps_per_epoch = len(trainingset), \n",
    "                             validation_data = validationset, verbose = 1, validation_steps = len(validationset))"
   ]
  },
  {
   "cell_type": "markdown",
   "id": "23afa68c",
   "metadata": {},
   "source": [
    "### Plot to show training accuracy vs validation accuracy"
   ]
  },
  {
   "cell_type": "markdown",
   "id": "059afbd0",
   "metadata": {},
   "source": [
    "The two plots were designed to visualize the learning curve of the model. One plot concentrated on Training and validation accuracy over 60 iterations and next one concentrated on training and validation loss."
   ]
  },
  {
   "cell_type": "code",
   "execution_count": 7,
   "id": "c0975f21",
   "metadata": {},
   "outputs": [
    {
     "data": {
      "image/png": "[encoded data removed]",
      "text/plain": [
       "<Figure size 432x288 with 1 Axes>"
      ]
     },
     "metadata": {
      "needs_background": "light"
     },
     "output_type": "display_data"
    },
    {
     "data": {
      "text/plain": [
       "<Figure size 432x288 with 0 Axes>"
      ]
     },
     "metadata": {},
     "output_type": "display_data"
    },
    {
     "data": {
      "image/png": "[encoded data removed]",
      "text/plain": [
       "<Figure size 432x288 with 1 Axes>"
      ]
     },
     "metadata": {
      "needs_background": "light"
     },
     "output_type": "display_data"
    },
    {
     "data": {
      "text/plain": [
       "<Figure size 432x288 with 0 Axes>"
      ]
     },
     "metadata": {},
     "output_type": "display_data"
    }
   ],
   "source": [
    "accuracy = history.history['accuracy']\n",
    "validation_accuracy = history.history['val_accuracy']\n",
    "loss = history.history['loss']\n",
    "validation_loss = history.history['val_loss']\n",
    "\n",
    "epochs = range(len(accuracy))\n",
    "\n",
    "plt.plot(epochs, accuracy, 'red', label='Training accuracy')\n",
    "plt.plot(epochs, validation_accuracy, 'blue', label='Validation accuracy')\n",
    "plt.title('Training and validation accuracy')\n",
    "plt.legend(loc=0)\n",
    "plt.figure()\n",
    "plt.show()\n",
    "\n",
    "plt.plot(epochs, loss, 'red', label='Training loss')\n",
    "plt.plot(epochs, validation_loss, 'blue', label='Validation loss')\n",
    "plt.title('Training and validation loss')\n",
    "plt.legend(loc=0)\n",
    "plt.figure()\n",
    "plt.show()"
   ]
  },
  {
   "cell_type": "markdown",
   "id": "bdb3d4ba",
   "metadata": {},
   "source": [
    "### Test data prediction"
   ]
  },
  {
   "cell_type": "markdown",
   "id": "b205338a",
   "metadata": {},
   "source": [
    "Like training data, image generator were built for test data along with its directory. The important step of the project is the prediction of test images with the learning the CNN model has undergone with training and validation images."
   ]
  },
  {
   "cell_type": "code",
   "execution_count": 8,
   "id": "f52303e7",
   "metadata": {},
   "outputs": [
    {
     "name": "stdout",
     "output_type": "stream",
     "text": [
      "Found 79726 images belonging to 1 classes.\n",
      "2492/2492 [==============================] - 425s 170ms/step\n"
     ]
    }
   ],
   "source": [
    "testparentdirectory = os.path.join(workingdir + '/state-farm-distracted-driver-detection/imgs/')\n",
    "testdataimage = ImageDataGenerator(rescale = 1./255)\n",
    "testdata = testdataimage.flow_from_directory(testparentdirectory, classes=['test'], target_size = (100,100))\n",
    "testoutput = cnnmodel.predict(testdata, verbose = 1)"
   ]
  },
  {
   "cell_type": "markdown",
   "id": "aa363868",
   "metadata": {},
   "source": [
    "### Preparing output dataframe"
   ]
  },
  {
   "cell_type": "markdown",
   "id": "66631730",
   "metadata": {},
   "source": [
    "The sample submission csv was read by pandas to prepare the format of output. With image and images name taken from the csv, the prediction values was replaced with the original value of csv in the same format and convert it to a dataframe to export it easily into a csv file."
   ]
  },
  {
   "cell_type": "code",
   "execution_count": 9,
   "id": "59bc9cc4",
   "metadata": {},
   "outputs": [],
   "source": [
    "specimencsv = pd.read_csv(os.path.join(workingdir + '/state-farm-distracted-driver-detection/sample_submission.csv'))\n",
    "result = {'img':list(specimencsv.values[:,0]),}\n",
    "for value in range(0,10):\n",
    "    result['c' + str(value)] = list(testoutput[:,value])"
   ]
  },
  {
   "cell_type": "code",
   "execution_count": 10,
   "id": "68a31623",
   "metadata": {},
   "outputs": [],
   "source": [
    "testoutput = pd.DataFrame(result)"
   ]
  },
  {
   "cell_type": "markdown",
   "id": "284115e3",
   "metadata": {},
   "source": [
    "### Exploratory data analysis"
   ]
  },
  {
   "cell_type": "markdown",
   "id": "d9763de8",
   "metadata": {},
   "source": [
    "The number of images in each class were depicted with a bar plot."
   ]
  },
  {
   "cell_type": "code",
   "execution_count": 45,
   "id": "d8716e97",
   "metadata": {},
   "outputs": [
    {
     "data": {
      "text/plain": [
       "Text(0.5, 1.0, 'Number of images per class in training data')"
      ]
     },
     "execution_count": 45,
     "metadata": {},
     "output_type": "execute_result"
    },
    {
     "data": {
      "image/png": "[encoded data removed]",
      "text/plain": [
       "<Figure size 432x288 with 1 Axes>"
      ]
     },
     "metadata": {
      "needs_background": "light"
     },
     "output_type": "display_data"
    }
   ],
   "source": [
    "imagescsv = pd.read_csv(os.path.join(workingdir + '/state-farm-distracted-driver-detection/driver_imgs_list.csv'))\n",
    "imagescsv.classname.value_counts().plot(kind = 'bar')\n",
    "plt.title('Number of images per class in training data')"
   ]
  },
  {
   "cell_type": "code",
   "execution_count": 35,
   "id": "34ae4869",
   "metadata": {},
   "outputs": [],
   "source": [
    "testvalue = testoutput[['c0', 'c1', 'c2', 'c3', 'c4', 'c5', 'c6', 'c7', 'c8', 'c9']].idxmax(axis = 1)"
   ]
  },
  {
   "cell_type": "code",
   "execution_count": 44,
   "id": "b202c183",
   "metadata": {},
   "outputs": [
    {
     "data": {
      "text/plain": [
       "Text(0.5, 1.0, 'Number of images per class in test data')"
      ]
     },
     "execution_count": 44,
     "metadata": {},
     "output_type": "execute_result"
    },
    {
     "data": {
      "image/png": "[encoded data removed]",
      "text/plain": [
       "<Figure size 432x288 with 1 Axes>"
      ]
     },
     "metadata": {
      "needs_background": "light"
     },
     "output_type": "display_data"
    }
   ],
   "source": [
    "testvalue.value_counts().plot(kind = 'bar')\n",
    "plt.title('Number of images per class in test data')"
   ]
  },
  {
   "cell_type": "markdown",
   "id": "d18f4fa9",
   "metadata": {},
   "source": [
    "### Preparing output file"
   ]
  },
  {
   "cell_type": "markdown",
   "id": "52dafec7",
   "metadata": {},
   "source": [
    "Then, the csv had been written from the 'testoutput' dataframe."
   ]
  },
  {
   "cell_type": "code",
   "execution_count": 13,
   "id": "46aad030",
   "metadata": {},
   "outputs": [],
   "source": [
    "testoutput.to_csv('Testoutput.csv', index = False, encoding='utf-8')"
   ]
  },
  {
   "cell_type": "markdown",
   "id": "b0b52f4c",
   "metadata": {},
   "source": [
    "### Conclusion"
   ]
  },
  {
   "cell_type": "markdown",
   "id": "0c4ecb70",
   "metadata": {},
   "source": [
    "We built a model using Convolution Neural Networks with data augumentation, Batch Normalization and Dropout to increase the efficiency of the model. Thus, the prediction of test images from the model with the learning of training and validation images was successfully exported to a csv file with over 97% accuracy."
   ]
  },
  {
   "cell_type": "markdown",
   "id": "759ca4e9",
   "metadata": {},
   "source": [
    "### References"
   ]
  },
  {
   "cell_type": "markdown",
   "id": "daafece0",
   "metadata": {},
   "source": [
    "1. https://www.tensorflow.org/tutorials/keras/classification\n",
    "2. https://www.tensorflow.org/tutorials/images/cnn\n",
    "3. https://charon.me/posts/keras/keras2/\n",
    "4. https://www.tensorflow.org/api_docs/python/tf/keras/preprocessing/image/ImageDataGenerator\n",
    "5. https://www.tensorflow.org/guide/keras/train_and_evaluate"
   ]
  }
 ],
 "metadata": {
  "kernelspec": {
   "display_name": "Python 3 (ipykernel)",
   "language": "python",
   "name": "python3"
  },
  "language_info": {
   "codemirror_mode": {
    "name": "ipython",
    "version": 3
   },
   "file_extension": ".py",
   "mimetype": "text/x-python",
   "name": "python",
   "nbconvert_exporter": "python",
   "pygments_lexer": "ipython3",
   "version": "3.9.7"
  }
 },
 "nbformat": 4,
 "nbformat_minor": 5
}
