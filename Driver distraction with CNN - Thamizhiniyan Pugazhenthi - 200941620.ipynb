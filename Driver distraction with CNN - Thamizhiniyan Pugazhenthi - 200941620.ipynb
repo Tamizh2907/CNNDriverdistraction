{
 "cells": [
  {
   "cell_type": "markdown",
   "id": "9de12996",
   "metadata": {},
   "source": [
    "# Detection of distracted driver using Convolutional Neural Networks"
   ]
  },
  {
   "cell_type": "markdown",
   "id": "753a9381",
   "metadata": {},
   "source": [
    "### Introduction"
   ]
  },
  {
   "cell_type": "markdown",
   "id": "267ecde8",
   "metadata": {},
   "source": [
    "In this project, the detection of distracted driver with Machine Learning using Convolutional Neural Networks was analysed and predicted."
   ]
  },
  {
   "cell_type": "markdown",
   "id": "fbdb111d",
   "metadata": {},
   "source": [
    "### Dataset description"
   ]
  },
  {
   "cell_type": "markdown",
   "id": "1a3f4857",
   "metadata": {},
   "source": [
    "The dataset had set of training and test images. The training data splitted into ten classes from c0 to c9. The 10 classes to predict are:\n",
    "\n",
    "    c0: normal driving\n",
    "    c1: texting - right\n",
    "    c2: talking on the phone - right\n",
    "    c3: texting - left\n",
    "    c4: talking on the phone - left\n",
    "    c5: operating the radio\n",
    "    c6: drinking\n",
    "    c7: reaching behind\n",
    "    c8: hair and makeup\n",
    "    c9: talking to passenger\n",
    "    \n",
    "Along with the set of images, two csv files were presented to assist our project. One with the details about the name of the images along with the class and another sample csv to show the submission format of the project."
   ]
  },
  {
   "cell_type": "markdown",
   "id": "98f965a4",
   "metadata": {},
   "source": [
    "### Libraries"
   ]
  },
  {
   "cell_type": "markdown",
   "id": "4f541f3d",
   "metadata": {},
   "source": [
    "The libraries were imported to support our project. The assistance of tensorflow and keras is vital to proceed ahead. With matplot to plot charts and pandas to perform csv read and write operations."
   ]
  },
  {
   "cell_type": "code",
   "execution_count": 2,
   "id": "d8a29e26",
   "metadata": {},
   "outputs": [],
   "source": [
    "import os\n",
    "from os.path import join\n",
    "import tensorflow as tf\n",
    "import keras_preprocessing\n",
    "from keras_preprocessing import image\n",
    "from keras_preprocessing.image import ImageDataGenerator\n",
    "import matplotlib.pyplot as plt\n",
    "import pandas as pd"
   ]
  },
  {
   "cell_type": "markdown",
   "id": "d77a516b",
   "metadata": {},
   "source": [
    "### Model"
   ]
  },
  {
   "cell_type": "markdown",
   "id": "0bc034e7",
   "metadata": {},
   "source": [
    "The Convolutional Neural Network was constructed with input size of (100,100) with the '3' represents 'rgb' format of the image. With Batch normalization, we can standardize the data in between convolutional layers. Maxpooling is to find out the maximum value from the region covered by filter and the data will be converted to one dimensional array using flatten and dropout will help us to prevent overfitting. The hidden dense layers were added to improve efficiency and with the final dense layer represents output with 10 classes. The optimizer 'adam' was used to compile the model."
   ]
  },
  {
   "cell_type": "code",
   "execution_count": 3,
   "id": "fc401350",
   "metadata": {},
   "outputs": [
    {
     "name": "stdout",
     "output_type": "stream",
     "text": [
      "Model: \"sequential\"\n",
      "_________________________________________________________________\n",
      "Layer (type)                 Output Shape              Param #   \n",
      "=================================================================\n",
      "conv2d (Conv2D)              (None, 98, 98, 32)        896       \n",
      "_________________________________________________________________\n",
      "batch_normalization (BatchNo (None, 98, 98, 32)        128       \n",
      "_________________________________________________________________\n",
      "max_pooling2d (MaxPooling2D) (None, 49, 49, 32)        0         \n",
      "_________________________________________________________________\n",
      "conv2d_1 (Conv2D)            (None, 49, 49, 64)        18496     \n",
      "_________________________________________________________________\n",
      "batch_normalization_1 (Batch (None, 49, 49, 64)        256       \n",
      "_________________________________________________________________\n",
      "conv2d_2 (Conv2D)            (None, 49, 49, 64)        36928     \n",
      "_________________________________________________________________\n",
      "batch_normalization_2 (Batch (None, 49, 49, 64)        256       \n",
      "_________________________________________________________________\n",
      "max_pooling2d_1 (MaxPooling2 (None, 24, 24, 64)        0         \n",
      "_________________________________________________________________\n",
      "conv2d_3 (Conv2D)            (None, 24, 24, 128)       73856     \n",
      "_________________________________________________________________\n",
      "batch_normalization_3 (Batch (None, 24, 24, 128)       512       \n",
      "_________________________________________________________________\n",
      "flatten (Flatten)            (None, 73728)             0         \n",
      "_________________________________________________________________\n",
      "dropout (Dropout)            (None, 73728)             0         \n",
      "_________________________________________________________________\n",
      "dense (Dense)                (None, 1024)              75498496  \n",
      "_________________________________________________________________\n",
      "dense_1 (Dense)              (None, 512)               524800    \n",
      "_________________________________________________________________\n",
      "dense_2 (Dense)              (None, 10)                5130      \n",
      "=================================================================\n",
      "Total params: 76,159,754\n",
      "Trainable params: 76,159,178\n",
      "Non-trainable params: 576\n",
      "_________________________________________________________________\n"
     ]
    }
   ],
   "source": [
    "cnnmodel = tf.keras.models.Sequential([\n",
    "    tf.keras.layers.Conv2D(32, (3,3), activation='relu', input_shape=(100, 100, 3)),\n",
    "    tf.keras.layers.BatchNormalization(),\n",
    "    tf.keras.layers.MaxPooling2D(2,2),\n",
    "    tf.keras.layers.Conv2D(64, (3,3), activation='relu', padding = 'same'),\n",
    "    tf.keras.layers.BatchNormalization(),\n",
    "    tf.keras.layers.Conv2D(64, (3,3), activation='relu', padding = 'same'),\n",
    "    tf.keras.layers.BatchNormalization(),\n",
    "    tf.keras.layers.MaxPooling2D(2,2),\n",
    "    tf.keras.layers.Conv2D(128, (3,3), activation='relu', padding = 'same'),\n",
    "    tf.keras.layers.BatchNormalization(),\n",
    "    tf.keras.layers.Flatten(),\n",
    "    tf.keras.layers.Dropout(0.5),\n",
    "    tf.keras.layers.Dense(1024, activation='relu'),\n",
    "    tf.keras.layers.Dense(512, activation='relu'),\n",
    "    tf.keras.layers.Dense(10, activation='softmax')\n",
    "    ])\n",
    "cnnmodel.compile(loss = 'categorical_crossentropy', optimizer = 'adam', metrics = ['accuracy'])\n",
    "cnnmodel.summary()"
   ]
  },
  {
   "cell_type": "markdown",
   "id": "fba8e6cc",
   "metadata": {},
   "source": [
    "### Data preprocessing"
   ]
  },
  {
   "cell_type": "markdown",
   "id": "4078d940",
   "metadata": {},
   "source": [
    "The working directory was set to acccess the folder contains training images."
   ]
  },
  {
   "cell_type": "code",
   "execution_count": 4,
   "id": "0a5694ab",
   "metadata": {},
   "outputs": [],
   "source": [
    "workingdir = os.path.abspath('')\n",
    "trainingdirectory = os.path.join(workingdir + '/state-farm-distracted-driver-detection/imgs/train/')"
   ]
  },
  {
   "cell_type": "markdown",
   "id": "85824c96",
   "metadata": {},
   "source": [
    "### Train and validation dataset split"
   ]
  },
  {
   "cell_type": "markdown",
   "id": "167c914c",
   "metadata": {},
   "source": [
    "Image generator was built to get access of images from the training folder. The data augumentation was used to generalize the model with horizontal flip, width and heigth shift range and rotation range. To improve the model, the training data were splitted into training and validation data in the ratio of 80:20. From the generator, the training and validation set can be accessed in the batch size of 64."
   ]
  },
  {
   "cell_type": "code",
   "execution_count": 5,
   "id": "01756e44",
   "metadata": {},
   "outputs": [
    {
     "name": "stdout",
     "output_type": "stream",
     "text": [
      "Found 17943 images belonging to 10 classes.\n",
      "Found 4481 images belonging to 10 classes.\n"
     ]
    }
   ],
   "source": [
    "trainingdataimage = ImageDataGenerator(rescale = 1./255, height_shift_range = 0.2,\n",
    "                                        width_shift_range = 0.2, shear_range = 0.2, rotation_range = 40, zoom_range = 0.2, \n",
    "                                        fill_mode = 'nearest', horizontal_flip = True, validation_split = 0.2)\n",
    "trainingset = trainingdataimage.flow_from_directory(trainingdirectory, \n",
    "                                                            target_size = (100, 100), batch_size = 64, \n",
    "                                                            class_mode = 'categorical', subset = 'training', shuffle = True)\n",
    "validationset = trainingdataimage.flow_from_directory(trainingdirectory, \n",
    "                                                            target_size = (100, 100), batch_size = 64, \n",
    "                                                            class_mode = 'categorical', subset = 'validation', shuffle = True)"
   ]
  },
  {
   "cell_type": "markdown",
   "id": "e68e3d5e",
   "metadata": {},
   "source": [
    "### Model fit"
   ]
  },
  {
   "cell_type": "markdown",
   "id": "4a418316",
   "metadata": {},
   "source": [
    "The training and validation images made to fit with the CNN model on 60 iterations with steps per iteration will be length of the image generator of training set and length of image generator of validation set was denoted as validation steps."
   ]
  },
  {
   "cell_type": "code",
   "execution_count": 6,
   "id": "ac5547ea",
   "metadata": {},
   "outputs": [
    {
     "name": "stdout",
     "output_type": "stream",
     "text": [
      "Epoch 1/60\n",
      "281/281 [==============================] - 376s 1s/step - loss: 2.5116 - accuracy: 0.1720 - val_loss: 3.2027 - val_accuracy: 0.1035\n",
      "Epoch 2/60\n",
      "281/281 [==============================] - 323s 1s/step - loss: 1.8083 - accuracy: 0.3328 - val_loss: 2.3313 - val_accuracy: 0.2508\n",
      "Epoch 3/60\n",
      "281/281 [==============================] - 318s 1s/step - loss: 1.4136 - accuracy: 0.4869 - val_loss: 2.3826 - val_accuracy: 0.3113\n",
      "Epoch 4/60\n",
      "281/281 [==============================] - 319s 1s/step - loss: 1.1155 - accuracy: 0.6021 - val_loss: 1.1466 - val_accuracy: 0.6072\n",
      "Epoch 5/60\n",
      "281/281 [==============================] - 321s 1s/step - loss: 0.9086 - accuracy: 0.6864 - val_loss: 1.3155 - val_accuracy: 0.5418\n",
      "Epoch 6/60\n",
      "281/281 [==============================] - 323s 1s/step - loss: 0.7383 - accuracy: 0.7448 - val_loss: 1.2715 - val_accuracy: 0.5952\n",
      "Epoch 7/60\n",
      "281/281 [==============================] - 319s 1s/step - loss: 0.6287 - accuracy: 0.7870 - val_loss: 0.8880 - val_accuracy: 0.7048\n",
      "Epoch 8/60\n",
      "281/281 [==============================] - 319s 1s/step - loss: 0.5582 - accuracy: 0.8103 - val_loss: 1.0156 - val_accuracy: 0.6809\n",
      "Epoch 9/60\n",
      "281/281 [==============================] - 318s 1s/step - loss: 0.5107 - accuracy: 0.8295 - val_loss: 1.1969 - val_accuracy: 0.6255\n",
      "Epoch 10/60\n",
      "281/281 [==============================] - 330s 1s/step - loss: 0.4548 - accuracy: 0.8499 - val_loss: 0.6042 - val_accuracy: 0.8027\n",
      "Epoch 11/60\n",
      "281/281 [==============================] - 338s 1s/step - loss: 0.4264 - accuracy: 0.8586 - val_loss: 0.5852 - val_accuracy: 0.8134\n",
      "Epoch 12/60\n",
      "281/281 [==============================] - 317s 1s/step - loss: 0.4007 - accuracy: 0.8697 - val_loss: 0.9471 - val_accuracy: 0.7119\n",
      "Epoch 13/60\n",
      "281/281 [==============================] - 325s 1s/step - loss: 0.3753 - accuracy: 0.8781 - val_loss: 0.3377 - val_accuracy: 0.8884\n",
      "Epoch 14/60\n",
      "281/281 [==============================] - 348s 1s/step - loss: 0.3502 - accuracy: 0.8889 - val_loss: 0.4997 - val_accuracy: 0.8424\n",
      "Epoch 15/60\n",
      "281/281 [==============================] - 349s 1s/step - loss: 0.3306 - accuracy: 0.8908 - val_loss: 0.6327 - val_accuracy: 0.8087\n",
      "Epoch 16/60\n",
      "281/281 [==============================] - 353s 1s/step - loss: 0.3241 - accuracy: 0.8922 - val_loss: 0.4044 - val_accuracy: 0.8746\n",
      "Epoch 17/60\n",
      "281/281 [==============================] - 350s 1s/step - loss: 0.3174 - accuracy: 0.8966 - val_loss: 0.4143 - val_accuracy: 0.8639\n",
      "Epoch 18/60\n",
      "281/281 [==============================] - 347s 1s/step - loss: 0.3037 - accuracy: 0.8990 - val_loss: 0.3509 - val_accuracy: 0.8848\n",
      "Epoch 19/60\n",
      "281/281 [==============================] - 351s 1s/step - loss: 0.2923 - accuracy: 0.9056 - val_loss: 0.6673 - val_accuracy: 0.7891\n",
      "Epoch 20/60\n",
      "281/281 [==============================] - 342s 1s/step - loss: 0.2779 - accuracy: 0.9098 - val_loss: 0.4353 - val_accuracy: 0.8699\n",
      "Epoch 21/60\n",
      "281/281 [==============================] - 344s 1s/step - loss: 0.2670 - accuracy: 0.9128 - val_loss: 0.4784 - val_accuracy: 0.8465\n",
      "Epoch 22/60\n",
      "281/281 [==============================] - 341s 1s/step - loss: 0.2477 - accuracy: 0.9206 - val_loss: 0.3648 - val_accuracy: 0.8846\n",
      "Epoch 23/60\n",
      "281/281 [==============================] - 347s 1s/step - loss: 0.2475 - accuracy: 0.9217 - val_loss: 0.4804 - val_accuracy: 0.8552\n",
      "Epoch 24/60\n",
      "281/281 [==============================] - 340s 1s/step - loss: 0.2576 - accuracy: 0.9172 - val_loss: 0.4012 - val_accuracy: 0.8819\n",
      "Epoch 25/60\n",
      "281/281 [==============================] - 343s 1s/step - loss: 0.2390 - accuracy: 0.9268 - val_loss: 0.6704 - val_accuracy: 0.7900\n",
      "Epoch 26/60\n",
      "281/281 [==============================] - 333s 1s/step - loss: 0.2378 - accuracy: 0.9234 - val_loss: 0.4291 - val_accuracy: 0.8777\n",
      "Epoch 27/60\n",
      "281/281 [==============================] - 333s 1s/step - loss: 0.2209 - accuracy: 0.9307 - val_loss: 0.3868 - val_accuracy: 0.8748\n",
      "Epoch 28/60\n",
      "281/281 [==============================] - 321s 1s/step - loss: 0.2311 - accuracy: 0.9289 - val_loss: 0.4000 - val_accuracy: 0.8790\n",
      "Epoch 29/60\n",
      "281/281 [==============================] - 334s 1s/step - loss: 0.2034 - accuracy: 0.9336 - val_loss: 0.2391 - val_accuracy: 0.9277\n",
      "Epoch 30/60\n",
      "281/281 [==============================] - 322s 1s/step - loss: 0.2077 - accuracy: 0.9350 - val_loss: 0.2802 - val_accuracy: 0.9197\n",
      "Epoch 31/60\n",
      "281/281 [==============================] - 316s 1s/step - loss: 0.2071 - accuracy: 0.9374 - val_loss: 0.3917 - val_accuracy: 0.8777\n",
      "Epoch 32/60\n",
      "281/281 [==============================] - 317s 1s/step - loss: 0.2057 - accuracy: 0.9360 - val_loss: 0.3143 - val_accuracy: 0.9092\n",
      "Epoch 33/60\n",
      "281/281 [==============================] - 315s 1s/step - loss: 0.1995 - accuracy: 0.9377 - val_loss: 0.2639 - val_accuracy: 0.9170\n",
      "Epoch 34/60\n",
      "281/281 [==============================] - 316s 1s/step - loss: 0.1884 - accuracy: 0.9391 - val_loss: 0.3887 - val_accuracy: 0.8931\n",
      "Epoch 35/60\n",
      "281/281 [==============================] - 315s 1s/step - loss: 0.1911 - accuracy: 0.9409 - val_loss: 0.2730 - val_accuracy: 0.9159\n",
      "Epoch 36/60\n",
      "281/281 [==============================] - 313s 1s/step - loss: 0.1929 - accuracy: 0.9392 - val_loss: 0.9694 - val_accuracy: 0.7710\n",
      "Epoch 37/60\n",
      "281/281 [==============================] - 312s 1s/step - loss: 0.1743 - accuracy: 0.9453 - val_loss: 0.2871 - val_accuracy: 0.9110\n",
      "Epoch 38/60\n",
      "281/281 [==============================] - 313s 1s/step - loss: 0.1715 - accuracy: 0.9458 - val_loss: 0.5447 - val_accuracy: 0.8757\n",
      "Epoch 39/60\n",
      "281/281 [==============================] - 311s 1s/step - loss: 0.1768 - accuracy: 0.9468 - val_loss: 0.3030 - val_accuracy: 0.9134\n",
      "Epoch 40/60\n",
      "281/281 [==============================] - 313s 1s/step - loss: 0.1727 - accuracy: 0.9469 - val_loss: 0.2971 - val_accuracy: 0.9096\n",
      "Epoch 41/60\n",
      "281/281 [==============================] - 313s 1s/step - loss: 0.1711 - accuracy: 0.9468 - val_loss: 0.2146 - val_accuracy: 0.9317\n",
      "Epoch 42/60\n",
      "281/281 [==============================] - 313s 1s/step - loss: 0.1784 - accuracy: 0.9454 - val_loss: 0.2956 - val_accuracy: 0.9177\n",
      "Epoch 43/60\n",
      "281/281 [==============================] - 312s 1s/step - loss: 0.1580 - accuracy: 0.9510 - val_loss: 0.1983 - val_accuracy: 0.9400\n",
      "Epoch 44/60\n",
      "281/281 [==============================] - 312s 1s/step - loss: 0.1649 - accuracy: 0.9489 - val_loss: 0.5169 - val_accuracy: 0.8505\n",
      "Epoch 45/60\n",
      "281/281 [==============================] - 312s 1s/step - loss: 0.1633 - accuracy: 0.9498 - val_loss: 0.2482 - val_accuracy: 0.9250\n",
      "Epoch 46/60\n",
      "281/281 [==============================] - 312s 1s/step - loss: 0.1590 - accuracy: 0.9518 - val_loss: 0.1737 - val_accuracy: 0.9476\n",
      "Epoch 47/60\n",
      "281/281 [==============================] - 312s 1s/step - loss: 0.1558 - accuracy: 0.9526 - val_loss: 0.2266 - val_accuracy: 0.9362\n",
      "Epoch 48/60\n",
      "281/281 [==============================] - 312s 1s/step - loss: 0.1531 - accuracy: 0.9549 - val_loss: 1.1021 - val_accuracy: 0.7414\n",
      "Epoch 49/60\n",
      "281/281 [==============================] - 312s 1s/step - loss: 0.1555 - accuracy: 0.9535 - val_loss: 0.2648 - val_accuracy: 0.9214\n",
      "Epoch 50/60\n",
      "281/281 [==============================] - 312s 1s/step - loss: 0.1518 - accuracy: 0.9523 - val_loss: 0.2495 - val_accuracy: 0.9297\n",
      "Epoch 51/60\n",
      "281/281 [==============================] - 314s 1s/step - loss: 0.1526 - accuracy: 0.9544 - val_loss: 0.4012 - val_accuracy: 0.8947\n",
      "Epoch 52/60\n",
      "281/281 [==============================] - 312s 1s/step - loss: 0.1416 - accuracy: 0.9567 - val_loss: 0.3095 - val_accuracy: 0.9112\n",
      "Epoch 53/60\n",
      "281/281 [==============================] - 312s 1s/step - loss: 0.1387 - accuracy: 0.9559 - val_loss: 0.1920 - val_accuracy: 0.9389\n",
      "Epoch 54/60\n",
      "281/281 [==============================] - 312s 1s/step - loss: 0.1422 - accuracy: 0.9569 - val_loss: 0.3476 - val_accuracy: 0.9078\n",
      "Epoch 55/60\n",
      "281/281 [==============================] - 314s 1s/step - loss: 0.1490 - accuracy: 0.9567 - val_loss: 0.2508 - val_accuracy: 0.9333\n",
      "Epoch 56/60\n",
      "281/281 [==============================] - 315s 1s/step - loss: 0.1364 - accuracy: 0.9589 - val_loss: 0.1951 - val_accuracy: 0.9431\n",
      "Epoch 57/60\n",
      "281/281 [==============================] - 313s 1s/step - loss: 0.1364 - accuracy: 0.9587 - val_loss: 0.1701 - val_accuracy: 0.9453\n"
     ]
    },
    {
     "name": "stdout",
     "output_type": "stream",
     "text": [
      "Epoch 58/60\n",
      "281/281 [==============================] - 312s 1s/step - loss: 0.1372 - accuracy: 0.9579 - val_loss: 0.2215 - val_accuracy: 0.9288\n",
      "Epoch 59/60\n",
      "281/281 [==============================] - 313s 1s/step - loss: 0.1409 - accuracy: 0.9591 - val_loss: 0.4382 - val_accuracy: 0.8976\n",
      "Epoch 60/60\n",
      "281/281 [==============================] - 313s 1s/step - loss: 0.1296 - accuracy: 0.9613 - val_loss: 0.3573 - val_accuracy: 0.8958\n"
     ]
    }
   ],
   "source": [
    "history =  cnnmodel.fit(trainingset, epochs = 60, steps_per_epoch = len(trainingset), \n",
    "                             validation_data = validationset, verbose = 1, validation_steps = len(validationset))"
   ]
  },
  {
   "cell_type": "markdown",
   "id": "23afa68c",
   "metadata": {},
   "source": [
    "### Plot to show training accuracy vs validation accuracy"
   ]
  },
  {
   "cell_type": "markdown",
   "id": "059afbd0",
   "metadata": {},
   "source": [
    "The two plots were designed to visualize the learning curve of the model. One plot concentrated on Training and validation accuracy over 60 iterations and next one concentrated on training and validation loss."
   ]
  },
  {
   "cell_type": "code",
   "execution_count": 8,
   "id": "c0975f21",
   "metadata": {},
   "outputs": [
    {
     "data": {
      "image/png": "[encoded data removed]",
      "text/plain": [
       "<Figure size 432x288 with 1 Axes>"
      ]
     },
     "metadata": {
      "needs_background": "light"
     },
     "output_type": "display_data"
    },
    {
     "data": {
      "text/plain": [
       "<Figure size 432x288 with 0 Axes>"
      ]
     },
     "metadata": {},
     "output_type": "display_data"
    },
    {
     "data": {
      "image/png": "[encoded data removed]",
      "text/plain": [
       "<Figure size 432x288 with 1 Axes>"
      ]
     },
     "metadata": {
      "needs_background": "light"
     },
     "output_type": "display_data"
    },
    {
     "data": {
      "text/plain": [
       "<Figure size 432x288 with 0 Axes>"
      ]
     },
     "metadata": {},
     "output_type": "display_data"
    }
   ],
   "source": [
    "accuracy = history.history['accuracy']\n",
    "validation_accuracy = history.history['val_accuracy']\n",
    "loss = history.history['loss']\n",
    "validation_loss = history.history['val_loss']\n",
    "\n",
    "epochs = range(len(accuracy))\n",
    "\n",
    "plt.plot(epochs, accuracy, 'red', label='Training accuracy')\n",
    "plt.plot(epochs, validation_accuracy, 'blue', label='Validation accuracy')\n",
    "plt.title('Training and validation accuracy')\n",
    "plt.legend(loc=0)\n",
    "plt.figure()\n",
    "plt.show()\n",
    "\n",
    "plt.plot(epochs, loss, 'red', label='Training loss')\n",
    "plt.plot(epochs, validation_loss, 'blue', label='Validation loss')\n",
    "plt.title('Training and validation loss')\n",
    "plt.legend(loc=0)\n",
    "plt.figure()\n",
    "plt.show()"
   ]
  },
  {
   "cell_type": "markdown",
   "id": "bdb3d4ba",
   "metadata": {},
   "source": [
    "### Test data prediction"
   ]
  },
  {
   "cell_type": "markdown",
   "id": "b205338a",
   "metadata": {},
   "source": [
    "Like training data, image generator were built for test data along with its directory. The important step of the project is the prediction of test images with the learning the CNN model has undergone with training and validation images."
   ]
  },
  {
   "cell_type": "code",
   "execution_count": 9,
   "id": "f52303e7",
   "metadata": {},
   "outputs": [
    {
     "name": "stdout",
     "output_type": "stream",
     "text": [
      "Found 79726 images belonging to 1 classes.\n",
      "2492/2492 [==============================] - 495s 199ms/step\n"
     ]
    }
   ],
   "source": [
    "testparentdirectory = os.path.join(workingdir + '/state-farm-distracted-driver-detection/imgs/')\n",
    "testdataimage = ImageDataGenerator(rescale = 1./255)\n",
    "testdata = testdataimage.flow_from_directory(testparentdirectory, classes=['test'], target_size = (100,100))\n",
    "testoutput = cnnmodel.predict(testdata, verbose = 1)"
   ]
  },
  {
   "cell_type": "markdown",
   "id": "aa363868",
   "metadata": {},
   "source": [
    "### Preparing output dataframe"
   ]
  },
  {
   "cell_type": "markdown",
   "id": "66631730",
   "metadata": {},
   "source": [
    "The sample submission csv was read by pandas to prepare the format of output. With image and images name taken from the csv, the prediction values was replaced with the original value of csv in the same format and convert it to a dataframe to export it easily into a csv file."
   ]
  },
  {
   "cell_type": "code",
   "execution_count": 10,
   "id": "59bc9cc4",
   "metadata": {},
   "outputs": [],
   "source": [
    "specimencsv = pd.read_csv(os.path.join(workingdir + '/state-farm-distracted-driver-detection/sample_submission.csv'))\n",
    "result = {'img':list(specimencsv.values[:,0]),}\n",
    "for value in range(0,10):\n",
    "    result['c' + str(value)] = list(testoutput[:,value])"
   ]
  },
  {
   "cell_type": "code",
   "execution_count": 11,
   "id": "68a31623",
   "metadata": {},
   "outputs": [],
   "source": [
    "testoutput = pd.DataFrame(result)"
   ]
  },
  {
   "cell_type": "markdown",
   "id": "284115e3",
   "metadata": {},
   "source": [
    "### Exploratory data analysis"
   ]
  },
  {
   "cell_type": "markdown",
   "id": "d9763de8",
   "metadata": {},
   "source": [
    "The number of images in each class were depicted with a bar plot."
   ]
  },
  {
   "cell_type": "code",
   "execution_count": 12,
   "id": "d8716e97",
   "metadata": {},
   "outputs": [
    {
     "data": {
      "text/plain": [
       "Text(0.5, 1.0, 'Number of images per class in training data')"
      ]
     },
     "execution_count": 12,
     "metadata": {},
     "output_type": "execute_result"
    },
    {
     "data": {
      "image/png": "[encoded data removed]",
      "text/plain": [
       "<Figure size 432x288 with 1 Axes>"
      ]
     },
     "metadata": {
      "needs_background": "light"
     },
     "output_type": "display_data"
    }
   ],
   "source": [
    "imagescsv = pd.read_csv(os.path.join(workingdir + '/state-farm-distracted-driver-detection/driver_imgs_list.csv'))\n",
    "imagescsv.classname.value_counts().plot(kind = 'bar', label = 'index')\n",
    "plt.title('Number of images per class in training data')"
   ]
  },
  {
   "cell_type": "markdown",
   "id": "d18f4fa9",
   "metadata": {},
   "source": [
    "### Preparing output file"
   ]
  },
  {
   "cell_type": "markdown",
   "id": "52dafec7",
   "metadata": {},
   "source": [
    "Then, the csv had been written from the 'testoutput' dataframe."
   ]
  },
  {
   "cell_type": "code",
   "execution_count": 13,
   "id": "46aad030",
   "metadata": {},
   "outputs": [],
   "source": [
    "testoutput.to_csv('Testoutput.csv', index = False, encoding='utf-8')"
   ]
  },
  {
   "cell_type": "markdown",
   "id": "b0b52f4c",
   "metadata": {},
   "source": [
    "### Conclusion"
   ]
  },
  {
   "cell_type": "markdown",
   "id": "0c4ecb70",
   "metadata": {},
   "source": [
    "Thus, the prediction of test images from the model with the learning of training and validation images was successfully exported to a csv file with over 96% accuracy."
   ]
  },
  {
   "cell_type": "markdown",
   "id": "759ca4e9",
   "metadata": {},
   "source": [
    "### References"
   ]
  },
  {
   "cell_type": "markdown",
   "id": "daafece0",
   "metadata": {},
   "source": [
    "1. https://www.tensorflow.org/tutorials/keras/classification\n",
    "2. https://www.tensorflow.org/tutorials/images/cnn\n",
    "3. https://charon.me/posts/keras/keras2/\n",
    "4. https://www.tensorflow.org/api_docs/python/tf/keras/preprocessing/image/ImageDataGenerator\n",
    "5. https://www.tensorflow.org/guide/keras/train_and_evaluate"
   ]
  }
 ],
 "metadata": {
  "kernelspec": {
   "display_name": "Python 3 (ipykernel)",
   "language": "python",
   "name": "python3"
  },
  "language_info": {
   "codemirror_mode": {
    "name": "ipython",
    "version": 3
   },
   "file_extension": ".py",
   "mimetype": "text/x-python",
   "name": "python",
   "nbconvert_exporter": "python",
   "pygments_lexer": "ipython3",
   "version": "3.9.7"
  }
 },
 "nbformat": 4,
 "nbformat_minor": 5
}
