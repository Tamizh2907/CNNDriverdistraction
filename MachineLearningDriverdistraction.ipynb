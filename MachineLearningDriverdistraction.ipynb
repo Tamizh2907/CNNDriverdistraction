{
 "cells": [
  {
   "cell_type": "markdown",
   "id": "b4fbda8d",
   "metadata": {},
   "source": [
    "# Driver distraction classification using Convolutional Neural Networks"
   ]
  },
  {
   "cell_type": "markdown",
   "id": "c3653539",
   "metadata": {},
   "source": [
    "### Import libraries"
   ]
  },
  {
   "cell_type": "code",
   "execution_count": 20,
   "id": "e2fda2a6",
   "metadata": {},
   "outputs": [],
   "source": [
    "import os\n",
    "import pandas as pd\n",
    "import numpy as np\n",
    "import cv2\n",
    "import matplotlib.pyplot as plt\n",
    "import matplotlib.image as mpimg\n",
    "import tensorflow as tf\n",
    "from tensorflow.keras.layers import Dense, Flatten, Conv2D\n",
    "from tensorflow.keras import Model\n",
    "from tensorflow.keras import datasets, layers, models\n",
    "from sklearn.model_selection import train_test_split\n",
    "from sklearn.preprocessing import LabelEncoder"
   ]
  },
  {
   "cell_type": "markdown",
   "id": "b50a176a",
   "metadata": {},
   "source": [
    "### Data preprocessing"
   ]
  },
  {
   "cell_type": "code",
   "execution_count": 2,
   "id": "0121a3f1",
   "metadata": {},
   "outputs": [
    {
     "name": "stdout",
     "output_type": "stream",
     "text": [
      "C:\\Users\\thami\\Documents\\GitHub\\MachineLearningDriverdistraction\n"
     ]
    },
    {
     "data": {
      "text/html": [
       "<div>\n",
       "<style scoped>\n",
       "    .dataframe tbody tr th:only-of-type {\n",
       "        vertical-align: middle;\n",
       "    }\n",
       "\n",
       "    .dataframe tbody tr th {\n",
       "        vertical-align: top;\n",
       "    }\n",
       "\n",
       "    .dataframe thead th {\n",
       "        text-align: right;\n",
       "    }\n",
       "</style>\n",
       "<table border=\"1\" class=\"dataframe\">\n",
       "  <thead>\n",
       "    <tr style=\"text-align: right;\">\n",
       "      <th></th>\n",
       "      <th>subject</th>\n",
       "      <th>classname</th>\n",
       "      <th>img</th>\n",
       "    </tr>\n",
       "  </thead>\n",
       "  <tbody>\n",
       "    <tr>\n",
       "      <th>0</th>\n",
       "      <td>p002</td>\n",
       "      <td>c0</td>\n",
       "      <td>img_44733.jpg</td>\n",
       "    </tr>\n",
       "    <tr>\n",
       "      <th>1</th>\n",
       "      <td>p002</td>\n",
       "      <td>c0</td>\n",
       "      <td>img_72999.jpg</td>\n",
       "    </tr>\n",
       "  </tbody>\n",
       "</table>\n",
       "</div>"
      ],
      "text/plain": [
       "  subject classname            img\n",
       "0    p002        c0  img_44733.jpg\n",
       "1    p002        c0  img_72999.jpg"
      ]
     },
     "execution_count": 2,
     "metadata": {},
     "output_type": "execute_result"
    }
   ],
   "source": [
    "workingdir = os.path.abspath('')\n",
    "print(workingdir)\n",
    "csvdata = pd.read_csv(os.path.join(workingdir + '/state-farm-distracted-driver-detection//driver_imgs_list.csv'))\n",
    "csvdata.head(2)"
   ]
  },
  {
   "cell_type": "code",
   "execution_count": 3,
   "id": "5e6815e1",
   "metadata": {},
   "outputs": [],
   "source": [
    "#Upload Training Data\n",
    "trainingdirectory = os.path.join(workingdir + '/state-farm-distracted-driver-detection/imgs/train/')"
   ]
  },
  {
   "cell_type": "markdown",
   "id": "6581f6f3",
   "metadata": {},
   "source": [
    "### Image resize"
   ]
  },
  {
   "cell_type": "code",
   "execution_count": 4,
   "id": "766372f7",
   "metadata": {},
   "outputs": [],
   "source": [
    "def resizeimage(path, img_rows, img_cols, color_type=3):\n",
    "    img = cv2.imread(path,0)\n",
    "    resizedimage = cv2.resize(img, (img_cols, img_rows))\n",
    "    return resizedimage"
   ]
  },
  {
   "cell_type": "markdown",
   "id": "7af77805",
   "metadata": {},
   "source": [
    "### Training and Validation data split"
   ]
  },
  {
   "cell_type": "code",
   "execution_count": 67,
   "id": "18d832f7",
   "metadata": {},
   "outputs": [],
   "source": [
    "image = csvdata[['img']]\n",
    "classname = csvdata[['classname']]\n",
    "imagetrain, imagevalidation, classnametrain, classnamevalidation = train_test_split(image, classname, test_size=0.20)"
   ]
  },
  {
   "cell_type": "code",
   "execution_count": 6,
   "id": "9cfe63b7",
   "metadata": {},
   "outputs": [],
   "source": [
    "trainingimage = []\n",
    "for value in range(len(imagetrain)):\n",
    "    path = os.path.join(workingdir + '/state-farm-distracted-driver-detection/imgs/train/{}/{}').format(classnametrain.iloc[value,0], \n",
    "                                                                                                    imagetrain.iloc[value,0])\n",
    "    resizedimage = resizeimage(path,32,32)\n",
    "    trainingimage.append(resizedimage)"
   ]
  },
  {
   "cell_type": "code",
   "execution_count": 7,
   "id": "680b3bcd",
   "metadata": {},
   "outputs": [],
   "source": [
    "validationimage = []\n",
    "for value in range(len(imagevalidation)):\n",
    "    path = os.path.join(workingdir + '/state-farm-distracted-driver-detection/imgs/train/{}/{}').format(classnamevalidation.iloc[value,0],\n",
    "                                                                                          imagevalidation.iloc[value,0])\n",
    "    resizedimage = resizeimage(path,32,32)\n",
    "    validationimage.append(resizedimage)"
   ]
  },
  {
   "cell_type": "code",
   "execution_count": 35,
   "id": "689cb9ea",
   "metadata": {},
   "outputs": [],
   "source": [
    "trainingimagearray = np.array(trainingimage)\n",
    "validationimagearray = np.array(validationimage)\n",
    "trainingimagearray, validationimagearray = trainingimagearray/255.0, validationimagearray/255.0"
   ]
  },
  {
   "cell_type": "code",
   "execution_count": 54,
   "id": "4f52a318",
   "metadata": {},
   "outputs": [],
   "source": [
    "trainingimagearray = trainingimagearray.reshape(17939,32,32,1)\n",
    "validationimagearray = validationimagearray.reshape(4485,32,32,1)"
   ]
  },
  {
   "cell_type": "code",
   "execution_count": 68,
   "id": "62d268ae",
   "metadata": {},
   "outputs": [],
   "source": [
    "labelencoder = LabelEncoder()\n",
    "classnametrain['encodercolumn'] = labelencoder.fit_transform(classnametrain)\n",
    "classnamevalidation['encodercolumn'] = labelencoder.fit_transform(classnamevalidation)"
   ]
  },
  {
   "cell_type": "markdown",
   "id": "af7c6233",
   "metadata": {},
   "source": [
    "### Model"
   ]
  },
  {
   "cell_type": "code",
   "execution_count": 58,
   "id": "03d7cfd0",
   "metadata": {},
   "outputs": [
    {
     "name": "stdout",
     "output_type": "stream",
     "text": [
      "Model: \"sequential_10\"\n",
      "_________________________________________________________________\n",
      "Layer (type)                 Output Shape              Param #   \n",
      "=================================================================\n",
      "conv2d_31 (Conv2D)           (None, 30, 30, 32)        320       \n",
      "_________________________________________________________________\n",
      "max_pooling2d_21 (MaxPooling (None, 15, 15, 32)        0         \n",
      "_________________________________________________________________\n",
      "conv2d_32 (Conv2D)           (None, 13, 13, 64)        18496     \n",
      "_________________________________________________________________\n",
      "max_pooling2d_22 (MaxPooling (None, 6, 6, 64)          0         \n",
      "_________________________________________________________________\n",
      "conv2d_33 (Conv2D)           (None, 4, 4, 64)          36928     \n",
      "=================================================================\n",
      "Total params: 55,744\n",
      "Trainable params: 55,744\n",
      "Non-trainable params: 0\n",
      "_________________________________________________________________\n"
     ]
    }
   ],
   "source": [
    "model = models.Sequential()\n",
    "model.add(layers.Conv2D(32, (3, 3), activation='relu', input_shape=(32, 32, 1)))\n",
    "model.add(layers.MaxPooling2D((2, 2)))\n",
    "model.add(layers.Conv2D(64, (3, 3), activation='relu'))\n",
    "model.add(layers.MaxPooling2D((2, 2)))\n",
    "model.add(layers.Conv2D(64, (3, 3), activation='relu'))\n",
    "\n",
    "model.summary()"
   ]
  },
  {
   "cell_type": "code",
   "execution_count": 59,
   "id": "d1ec2251",
   "metadata": {},
   "outputs": [
    {
     "name": "stdout",
     "output_type": "stream",
     "text": [
      "Model: \"sequential_10\"\n",
      "_________________________________________________________________\n",
      "Layer (type)                 Output Shape              Param #   \n",
      "=================================================================\n",
      "conv2d_31 (Conv2D)           (None, 30, 30, 32)        320       \n",
      "_________________________________________________________________\n",
      "max_pooling2d_21 (MaxPooling (None, 15, 15, 32)        0         \n",
      "_________________________________________________________________\n",
      "conv2d_32 (Conv2D)           (None, 13, 13, 64)        18496     \n",
      "_________________________________________________________________\n",
      "max_pooling2d_22 (MaxPooling (None, 6, 6, 64)          0         \n",
      "_________________________________________________________________\n",
      "conv2d_33 (Conv2D)           (None, 4, 4, 64)          36928     \n",
      "_________________________________________________________________\n",
      "flatten_8 (Flatten)          (None, 1024)              0         \n",
      "_________________________________________________________________\n",
      "dense_24 (Dense)             (None, 64)                65600     \n",
      "_________________________________________________________________\n",
      "dense_25 (Dense)             (None, 10)                650       \n",
      "_________________________________________________________________\n",
      "dense_26 (Dense)             (None, 10)                110       \n",
      "=================================================================\n",
      "Total params: 122,104\n",
      "Trainable params: 122,104\n",
      "Non-trainable params: 0\n",
      "_________________________________________________________________\n"
     ]
    }
   ],
   "source": [
    "model.add(layers.Flatten())\n",
    "model.add(layers.Dense(64, activation='relu'))\n",
    "model.add(layers.Dense(10))\n",
    "model.add(Dense(10, activation='softmax'))\n",
    "\n",
    "model.summary()"
   ]
  },
  {
   "cell_type": "code",
   "execution_count": 69,
   "id": "5c6f8de8",
   "metadata": {},
   "outputs": [
    {
     "name": "stdout",
     "output_type": "stream",
     "text": [
      "Epoch 1/25\n",
      "561/561 [==============================] - 11s 19ms/step - loss: 2.2998 - accuracy: 0.1123 - val_loss: 2.3014 - val_accuracy: 0.1059\n",
      "Epoch 2/25\n",
      "561/561 [==============================] - 13s 23ms/step - loss: 2.2997 - accuracy: 0.1123 - val_loss: 2.3012 - val_accuracy: 0.1059\n",
      "Epoch 3/25\n",
      "561/561 [==============================] - 10s 19ms/step - loss: 2.2998 - accuracy: 0.1123 - val_loss: 2.3014 - val_accuracy: 0.1059\n",
      "Epoch 4/25\n",
      "561/561 [==============================] - 5s 8ms/step - loss: 2.2997 - accuracy: 0.1123 - val_loss: 2.3017 - val_accuracy: 0.1059\n",
      "Epoch 5/25\n",
      "561/561 [==============================] - 12s 21ms/step - loss: 2.2998 - accuracy: 0.1123 - val_loss: 2.3016 - val_accuracy: 0.1059\n",
      "Epoch 6/25\n",
      "561/561 [==============================] - 13s 22ms/step - loss: 2.2997 - accuracy: 0.1123 - val_loss: 2.3015 - val_accuracy: 0.1059\n",
      "Epoch 7/25\n",
      "561/561 [==============================] - 11s 19ms/step - loss: 2.2998 - accuracy: 0.1123 - val_loss: 2.3015 - val_accuracy: 0.1059\n",
      "Epoch 8/25\n",
      "561/561 [==============================] - 9s 17ms/step - loss: 2.2997 - accuracy: 0.1123 - val_loss: 2.3012 - val_accuracy: 0.1059\n",
      "Epoch 9/25\n",
      "561/561 [==============================] - 6s 11ms/step - loss: 2.2998 - accuracy: 0.1123 - val_loss: 2.3011 - val_accuracy: 0.1059\n",
      "Epoch 10/25\n",
      "561/561 [==============================] - 12s 21ms/step - loss: 2.2998 - accuracy: 0.1123 - val_loss: 2.3014 - val_accuracy: 0.1059\n",
      "Epoch 11/25\n",
      "561/561 [==============================] - 10s 18ms/step - loss: 2.2997 - accuracy: 0.1123 - val_loss: 2.3011 - val_accuracy: 0.1059\n",
      "Epoch 12/25\n",
      "561/561 [==============================] - 7s 13ms/step - loss: 2.2997 - accuracy: 0.1123 - val_loss: 2.3013 - val_accuracy: 0.1059\n",
      "Epoch 13/25\n",
      "561/561 [==============================] - 12s 21ms/step - loss: 2.2997 - accuracy: 0.1123 - val_loss: 2.3017 - val_accuracy: 0.1059\n",
      "Epoch 14/25\n",
      "561/561 [==============================] - 13s 23ms/step - loss: 2.2997 - accuracy: 0.1123 - val_loss: 2.3015 - val_accuracy: 0.1059\n",
      "Epoch 15/25\n",
      "561/561 [==============================] - 13s 23ms/step - loss: 2.2997 - accuracy: 0.1123 - val_loss: 2.3014 - val_accuracy: 0.1059\n",
      "Epoch 16/25\n",
      "561/561 [==============================] - 4s 6ms/step - loss: 2.2997 - accuracy: 0.1123 - val_loss: 2.3016 - val_accuracy: 0.1059\n",
      "Epoch 17/25\n",
      "561/561 [==============================] - 12s 21ms/step - loss: 2.2998 - accuracy: 0.1123 - val_loss: 2.3014 - val_accuracy: 0.1059\n",
      "Epoch 18/25\n",
      "561/561 [==============================] - 6s 10ms/step - loss: 2.2997 - accuracy: 0.1123 - val_loss: 2.3016 - val_accuracy: 0.1059\n",
      "Epoch 19/25\n",
      "561/561 [==============================] - 8s 15ms/step - loss: 2.2997 - accuracy: 0.1123 - val_loss: 2.3013 - val_accuracy: 0.1059\n",
      "Epoch 20/25\n",
      "561/561 [==============================] - 13s 22ms/step - loss: 2.2997 - accuracy: 0.1123 - val_loss: 2.3015 - val_accuracy: 0.1059\n",
      "Epoch 21/25\n",
      "561/561 [==============================] - 14s 24ms/step - loss: 2.2997 - accuracy: 0.1123 - val_loss: 2.3013 - val_accuracy: 0.1059\n",
      "Epoch 22/25\n",
      "561/561 [==============================] - 12s 22ms/step - loss: 2.2997 - accuracy: 0.1123 - val_loss: 2.3013 - val_accuracy: 0.1059\n",
      "Epoch 23/25\n",
      "561/561 [==============================] - 13s 23ms/step - loss: 2.2997 - accuracy: 0.1123 - val_loss: 2.3014 - val_accuracy: 0.1059\n",
      "Epoch 24/25\n",
      "561/561 [==============================] - 13s 24ms/step - loss: 2.2997 - accuracy: 0.1123 - val_loss: 2.3013 - val_accuracy: 0.1059\n",
      "Epoch 25/25\n",
      "561/561 [==============================] - 12s 21ms/step - loss: 2.2997 - accuracy: 0.1123 - val_loss: 2.3015 - val_accuracy: 0.1059\n"
     ]
    }
   ],
   "source": [
    "model.compile(optimizer='adam', loss=tf.keras.losses.SparseCategoricalCrossentropy(from_logits=True), metrics=['accuracy'])\n",
    "history = model.fit(trainingimagearray, classnametrain['encodercolumn'], \n",
    "                    epochs=25,validation_data=(validationimagearray, classnamevalidation['encodercolumn']))\n",
    "model.save(\"cnnmodel.h5\")"
   ]
  },
  {
   "cell_type": "code",
   "execution_count": null,
   "id": "6fdc2530",
   "metadata": {},
   "outputs": [],
   "source": [
    "plt.plot(history.history['accuracy'], label='accuracy')\n",
    "plt.plot(history.history['val_accuracy'], label = 'val_accuracy')\n",
    "plt.xlabel('Epoch')\n",
    "plt.ylabel('Accuracy')\n",
    "plt.ylim([0.5, 1.1])\n",
    "plt.legend(loc='lower right')\n",
    "\n",
    "test_loss, test_acc = model.evaluate(validationimagearray, classnamevalidation['encodercolumn'], verbose=2)"
   ]
  }
 ],
 "metadata": {
  "kernelspec": {
   "display_name": "Python 3 (ipykernel)",
   "language": "python",
   "name": "python3"
  },
  "language_info": {
   "codemirror_mode": {
    "name": "ipython",
    "version": 3
   },
   "file_extension": ".py",
   "mimetype": "text/x-python",
   "name": "python",
   "nbconvert_exporter": "python",
   "pygments_lexer": "ipython3",
   "version": "3.9.7"
  }
 },
 "nbformat": 4,
 "nbformat_minor": 5
}
