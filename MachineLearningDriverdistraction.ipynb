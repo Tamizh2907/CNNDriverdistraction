{
 "cells": [
  {
   "cell_type": "markdown",
   "id": "b4fbda8d",
   "metadata": {},
   "source": [
    "# Driver distraction classification using Convolutional Neural Networks"
   ]
  },
  {
   "cell_type": "markdown",
   "id": "c3653539",
   "metadata": {},
   "source": [
    "### Import libraries"
   ]
  },
  {
   "cell_type": "code",
   "execution_count": 7,
   "id": "e2fda2a6",
   "metadata": {},
   "outputs": [],
   "source": [
    "import os\n",
    "import pandas as pd\n",
    "import cv2\n",
    "import matplotlib.pyplot as plt\n",
    "import matplotlib.image as mpimg\n",
    "import tensorflow as tf\n",
    "import keras_preprocessing\n",
    "from keras_preprocessing import image\n",
    "from keras_preprocessing.image import ImageDataGenerator"
   ]
  },
  {
   "cell_type": "markdown",
   "id": "b50a176a",
   "metadata": {},
   "source": [
    "### Data preprocessing"
   ]
  },
  {
   "cell_type": "code",
   "execution_count": 5,
   "id": "df21a5f4",
   "metadata": {},
   "outputs": [
    {
     "name": "stdout",
     "output_type": "stream",
     "text": [
      "C:\\Users\\thami\\Documents\\GitHub\\MachineLearningDriverdistraction\n"
     ]
    },
    {
     "data": {
      "text/html": [
       "<div>\n",
       "<style scoped>\n",
       "    .dataframe tbody tr th:only-of-type {\n",
       "        vertical-align: middle;\n",
       "    }\n",
       "\n",
       "    .dataframe tbody tr th {\n",
       "        vertical-align: top;\n",
       "    }\n",
       "\n",
       "    .dataframe thead th {\n",
       "        text-align: right;\n",
       "    }\n",
       "</style>\n",
       "<table border=\"1\" class=\"dataframe\">\n",
       "  <thead>\n",
       "    <tr style=\"text-align: right;\">\n",
       "      <th></th>\n",
       "      <th>subject</th>\n",
       "      <th>classname</th>\n",
       "      <th>img</th>\n",
       "    </tr>\n",
       "  </thead>\n",
       "  <tbody>\n",
       "    <tr>\n",
       "      <th>0</th>\n",
       "      <td>p002</td>\n",
       "      <td>c0</td>\n",
       "      <td>img_44733.jpg</td>\n",
       "    </tr>\n",
       "    <tr>\n",
       "      <th>1</th>\n",
       "      <td>p002</td>\n",
       "      <td>c0</td>\n",
       "      <td>img_72999.jpg</td>\n",
       "    </tr>\n",
       "  </tbody>\n",
       "</table>\n",
       "</div>"
      ],
      "text/plain": [
       "  subject classname            img\n",
       "0    p002        c0  img_44733.jpg\n",
       "1    p002        c0  img_72999.jpg"
      ]
     },
     "execution_count": 5,
     "metadata": {},
     "output_type": "execute_result"
    }
   ],
   "source": [
    "workingdir = os.path.abspath('')\n",
    "print(workingdir)\n",
    "csvdata = pd.read_csv(os.path.join(workingdir + '/state-farm-distracted-driver-detection//driver_imgs_list.csv'))\n",
    "csvdata.head(2)"
   ]
  },
  {
   "cell_type": "code",
   "execution_count": 2,
   "id": "5e6815e1",
   "metadata": {},
   "outputs": [
    {
     "name": "stdout",
     "output_type": "stream",
     "text": [
      "C:\\Users\\thami\\Documents\\GitHub\\MachineLearningDriverdistraction\n",
      "total training c0 images: 2489\n",
      "total training c1 images: 2267\n",
      "total training c2 images: 2317\n",
      "total training c3 images: 2346\n",
      "total training c4 images: 2326\n",
      "total training c5 images: 2312\n",
      "total training c6 images: 2325\n",
      "total training c7 images: 2002\n",
      "total training c8 images: 1911\n",
      "total training c9 images: 2129\n"
     ]
    }
   ],
   "source": [
    "#Upload Training Data\n",
    "c0directory = os.path.join(workingdir + '/state-farm-distracted-driver-detection/imgs/train/c0')\n",
    "c1directory = os.path.join(workingdir + '/state-farm-distracted-driver-detection/imgs/train/c1')\n",
    "c2directory = os.path.join(workingdir + '/state-farm-distracted-driver-detection/imgs/train/c2')\n",
    "c3directory = os.path.join(workingdir + '/state-farm-distracted-driver-detection/imgs/train/c3')\n",
    "c4directory = os.path.join(workingdir + '/state-farm-distracted-driver-detection/imgs/train/c4')\n",
    "c5directory = os.path.join(workingdir + '/state-farm-distracted-driver-detection/imgs/train/c5')\n",
    "c6directory = os.path.join(workingdir + '/state-farm-distracted-driver-detection/imgs/train/c6')\n",
    "c7directory = os.path.join(workingdir + '/state-farm-distracted-driver-detection/imgs/train/c7')\n",
    "c8directory = os.path.join(workingdir + '/state-farm-distracted-driver-detection/imgs/train/c8')\n",
    "c9directory = os.path.join(workingdir + '/state-farm-distracted-driver-detection/imgs/train/c9')\n",
    "print('total training c0 images:', len(os.listdir(c0directory)))\n",
    "print('total training c1 images:', len(os.listdir(c1directory)))\n",
    "print('total training c2 images:', len(os.listdir(c2directory)))\n",
    "print('total training c3 images:', len(os.listdir(c3directory)))\n",
    "print('total training c4 images:', len(os.listdir(c4directory)))\n",
    "print('total training c5 images:', len(os.listdir(c5directory)))\n",
    "print('total training c6 images:', len(os.listdir(c6directory)))\n",
    "print('total training c7 images:', len(os.listdir(c7directory)))\n",
    "print('total training c8 images:', len(os.listdir(c8directory)))\n",
    "print('total training c9 images:', len(os.listdir(c9directory)))"
   ]
  },
  {
   "cell_type": "code",
   "execution_count": null,
   "id": "73663fe3",
   "metadata": {},
   "outputs": [],
   "source": [
    "sample = cv2.imread(os.path.join(workingdir + '/state-farm-distracted-driver-detection/imgs/train/c0/img_34.jpg')"
   ]
  },
  {
   "cell_type": "markdown",
   "id": "e28bbc50",
   "metadata": {},
   "source": [
    "### Image generator"
   ]
  },
  {
   "cell_type": "code",
   "execution_count": 3,
   "id": "9cfe63b7",
   "metadata": {},
   "outputs": [
    {
     "name": "stdout",
     "output_type": "stream",
     "text": [
      "Found 22424 images belonging to 10 classes.\n",
      "Found 79726 images belonging to 1 classes.\n"
     ]
    }
   ],
   "source": [
    "trainingdatadirectory = os.path.join(workingdir + '/state-farm-distracted-driver-detection/imgs/train/')\n",
    "trainingdataimage = ImageDataGenerator(rescale = 1./255, rotation_range=40, width_shift_range=0.2, height_shift_range=0.2,\n",
    "                                           shear_range=0.2, zoom_range=0.2, horizontal_flip=True, fill_mode='nearest')\n",
    "\n",
    "testdatadirectory = os.path.join(workingdir + '/state-farm-distracted-driver-detection/imgs/test/')\n",
    "testdataimage = ImageDataGenerator(rescale = 1./255)\n",
    "\n",
    "trainingdatagenerator = trainingdataimage.flow_from_directory(trainingdatadirectory, target_size=(64,64),\n",
    "                                                              class_mode='categorical', batch_size=128)\n",
    "\n",
    "testdatagenerator = testdataimage.flow_from_directory(testdatadirectory, target_size=(64,64),\n",
    "                                                      batch_size=128, class_mode=None, shuffle = False)\n"
   ]
  },
  {
   "cell_type": "markdown",
   "id": "af7c6233",
   "metadata": {},
   "source": [
    "### Model"
   ]
  },
  {
   "cell_type": "code",
   "execution_count": 4,
   "id": "03d7cfd0",
   "metadata": {},
   "outputs": [
    {
     "name": "stdout",
     "output_type": "stream",
     "text": [
      "Model: \"sequential\"\n",
      "_________________________________________________________________\n",
      "Layer (type)                 Output Shape              Param #   \n",
      "=================================================================\n",
      "conv2d (Conv2D)              (None, 62, 62, 32)        896       \n",
      "_________________________________________________________________\n",
      "max_pooling2d (MaxPooling2D) (None, 31, 31, 32)        0         \n",
      "_________________________________________________________________\n",
      "conv2d_1 (Conv2D)            (None, 29, 29, 32)        9248      \n",
      "_________________________________________________________________\n",
      "max_pooling2d_1 (MaxPooling2 (None, 14, 14, 32)        0         \n",
      "_________________________________________________________________\n",
      "conv2d_2 (Conv2D)            (None, 12, 12, 64)        18496     \n",
      "_________________________________________________________________\n",
      "max_pooling2d_2 (MaxPooling2 (None, 6, 6, 64)          0         \n",
      "_________________________________________________________________\n",
      "conv2d_3 (Conv2D)            (None, 4, 4, 64)          36928     \n",
      "_________________________________________________________________\n",
      "max_pooling2d_3 (MaxPooling2 (None, 2, 2, 64)          0         \n",
      "_________________________________________________________________\n",
      "flatten (Flatten)            (None, 256)               0         \n",
      "_________________________________________________________________\n",
      "dropout (Dropout)            (None, 256)               0         \n",
      "_________________________________________________________________\n",
      "dense (Dense)                (None, 512)               131584    \n",
      "_________________________________________________________________\n",
      "dense_1 (Dense)              (None, 10)                5130      \n",
      "=================================================================\n",
      "Total params: 202,282\n",
      "Trainable params: 202,282\n",
      "Non-trainable params: 0\n",
      "_________________________________________________________________\n"
     ]
    }
   ],
   "source": [
    "model = tf.keras.models.Sequential([\n",
    "    \n",
    "    # There are four convolutions\n",
    "    tf.keras.layers.Conv2D(32, (3,3), activation='relu', input_shape=(64, 64, 3)),\n",
    "    tf.keras.layers.MaxPooling2D(2, 2),\n",
    "    tf.keras.layers.Conv2D(32, (3,3), activation='relu'),\n",
    "    tf.keras.layers.MaxPooling2D(2,2),\n",
    "    tf.keras.layers.Conv2D(64, (3,3), activation='relu'),\n",
    "    tf.keras.layers.MaxPooling2D(2,2),\n",
    "    tf.keras.layers.Conv2D(64, (3,3), activation='relu'),\n",
    "    tf.keras.layers.MaxPooling2D(2,2),\n",
    "    \n",
    "    # Flatten the results to feed into a DNN\n",
    "    tf.keras.layers.Flatten(),\n",
    "    tf.keras.layers.Dropout(0.5),\n",
    "    \n",
    "    # 512 neuron hidden layer\n",
    "    tf.keras.layers.Dense(512, activation='relu'),\n",
    "    tf.keras.layers.Dense(10, activation='softmax')\n",
    "])\n",
    "\n",
    "\n",
    "model.summary()\n"
   ]
  },
  {
   "cell_type": "code",
   "execution_count": 5,
   "id": "5c6f8de8",
   "metadata": {},
   "outputs": [],
   "source": [
    "model.compile(loss = 'categorical_crossentropy', optimizer='rmsprop', metrics=['accuracy'])"
   ]
  },
  {
   "cell_type": "code",
   "execution_count": null,
   "id": "6fdc2530",
   "metadata": {},
   "outputs": [],
   "source": [
    "history = model.fit(trainingdatagenerator, epochs=25, steps_per_epoch=20, validation_data = testdatagenerator, \n",
    "                       verbose = 1, validation_steps=3)"
   ]
  },
  {
   "cell_type": "code",
   "execution_count": null,
   "id": "e4709d11",
   "metadata": {},
   "outputs": [],
   "source": []
  }
 ],
 "metadata": {
  "kernelspec": {
   "display_name": "Python 3 (ipykernel)",
   "language": "python",
   "name": "python3"
  },
  "language_info": {
   "codemirror_mode": {
    "name": "ipython",
    "version": 3
   },
   "file_extension": ".py",
   "mimetype": "text/x-python",
   "name": "python",
   "nbconvert_exporter": "python",
   "pygments_lexer": "ipython3",
   "version": "3.9.7"
  }
 },
 "nbformat": 4,
 "nbformat_minor": 5
}
