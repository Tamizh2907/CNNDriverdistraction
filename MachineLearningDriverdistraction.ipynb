{
 "cells": [
  {
   "cell_type": "markdown",
   "id": "9e2b2e9c",
   "metadata": {},
   "source": [
    "Driver distraction classification using Convolutional Neural Networks"
   ]
  },
  {
   "cell_type": "code",
   "execution_count": 28,
   "id": "067e4670",
   "metadata": {},
   "outputs": [
    {
     "ename": "ModuleNotFoundError",
     "evalue": "No module named 'matplotlib'",
     "output_type": "error",
     "traceback": [
      "\u001b[1;31m---------------------------------------------------------------------------\u001b[0m",
      "\u001b[1;31mModuleNotFoundError\u001b[0m                       Traceback (most recent call last)",
      "\u001b[1;32m~\\AppData\\Local\\Temp/ipykernel_18756/2616262443.py\u001b[0m in \u001b[0;36m<module>\u001b[1;34m\u001b[0m\n\u001b[0;32m      1\u001b[0m \u001b[1;32mimport\u001b[0m \u001b[0mos\u001b[0m\u001b[1;33m\u001b[0m\u001b[1;33m\u001b[0m\u001b[0m\n\u001b[1;32m----> 2\u001b[1;33m \u001b[1;32mimport\u001b[0m \u001b[0mmatplotlib\u001b[0m\u001b[1;33m.\u001b[0m\u001b[0mpyplot\u001b[0m \u001b[1;32mas\u001b[0m \u001b[0mplt\u001b[0m\u001b[1;33m\u001b[0m\u001b[1;33m\u001b[0m\u001b[0m\n\u001b[0m\u001b[0;32m      3\u001b[0m \u001b[1;32mimport\u001b[0m \u001b[0mmatplotlib\u001b[0m\u001b[1;33m.\u001b[0m\u001b[0mimage\u001b[0m \u001b[1;32mas\u001b[0m \u001b[0mmpimg\u001b[0m\u001b[1;33m\u001b[0m\u001b[1;33m\u001b[0m\u001b[0m\n\u001b[0;32m      4\u001b[0m \u001b[1;32mimport\u001b[0m \u001b[0mtensorflow\u001b[0m \u001b[1;32mas\u001b[0m \u001b[0mtf\u001b[0m\u001b[1;33m\u001b[0m\u001b[1;33m\u001b[0m\u001b[0m\n\u001b[0;32m      5\u001b[0m \u001b[1;32mimport\u001b[0m \u001b[0mkeras_preprocessing\u001b[0m\u001b[1;33m\u001b[0m\u001b[1;33m\u001b[0m\u001b[0m\n",
      "\u001b[1;31mModuleNotFoundError\u001b[0m: No module named 'matplotlib'"
     ]
    }
   ],
   "source": [
    "import os\n",
    "import matplotlib.pyplot as plt\n",
    "import matplotlib.image as mpimg\n",
    "import tensorflow as tf\n",
    "import keras_preprocessing\n",
    "from keras_preprocessing import image\n",
    "from keras_preprocessing.image import ImageDataGenerator"
   ]
  },
  {
   "cell_type": "code",
   "execution_count": 27,
   "id": "0b6b39bf",
   "metadata": {},
   "outputs": [
    {
     "name": "stdout",
     "output_type": "stream",
     "text": [
      "C:\\Users\\thami\\Documents\\GitHub\\MachineLearningDriverdistraction\n",
      "total training c0 images: 2489\n",
      "total training c0 images: 2489\n",
      "total training c1 images: 2267\n",
      "total training c2 images: 2317\n",
      "total training c3 images: 2346\n",
      "total training c4 images: 2326\n",
      "total training c5 images: 2312\n",
      "total training c6 images: 2325\n",
      "total training c7 images: 2002\n",
      "total training c8 images: 1911\n",
      "total training c9 images: 2129\n"
     ]
    }
   ],
   "source": [
    "#Upload Training Data\n",
    "workingdir = os.path.abspath('')\n",
    "print(workingdir)\n",
    "c0directory = os.path.join(workingdir + '/state-farm-distracted-driver-detection/imgs/train/c0')\n",
    "c1directory = os.path.join(workingdir + '/state-farm-distracted-driver-detection/imgs/train/c1')\n",
    "c2directory = os.path.join(workingdir + '/state-farm-distracted-driver-detection/imgs/train/c2')\n",
    "c3directory = os.path.join(workingdir + '/state-farm-distracted-driver-detection/imgs/train/c3')\n",
    "c4directory = os.path.join(workingdir + '/state-farm-distracted-driver-detection/imgs/train/c4')\n",
    "c5directory = os.path.join(workingdir + '/state-farm-distracted-driver-detection/imgs/train/c5')\n",
    "c6directory = os.path.join(workingdir + '/state-farm-distracted-driver-detection/imgs/train/c6')\n",
    "c7directory = os.path.join(workingdir + '/state-farm-distracted-driver-detection/imgs/train/c7')\n",
    "c8directory = os.path.join(workingdir + '/state-farm-distracted-driver-detection/imgs/train/c8')\n",
    "c9directory = os.path.join(workingdir + '/state-farm-distracted-driver-detection/imgs/train/c9')\n",
    "print('total training c0 images:', len(os.listdir(c0directory)))\n",
    "print('total training c0 images:', len(os.listdir(c0directory)))\n",
    "print('total training c1 images:', len(os.listdir(c1directory)))\n",
    "print('total training c2 images:', len(os.listdir(c2directory)))\n",
    "print('total training c3 images:', len(os.listdir(c3directory)))\n",
    "print('total training c4 images:', len(os.listdir(c4directory)))\n",
    "print('total training c5 images:', len(os.listdir(c5directory)))\n",
    "print('total training c6 images:', len(os.listdir(c6directory)))\n",
    "print('total training c7 images:', len(os.listdir(c7directory)))\n",
    "print('total training c8 images:', len(os.listdir(c8directory)))\n",
    "print('total training c9 images:', len(os.listdir(c9directory)))"
   ]
  },
  {
   "cell_type": "code",
   "execution_count": null,
   "id": "ca72e380",
   "metadata": {},
   "outputs": [],
   "source": []
  }
 ],
 "metadata": {
  "kernelspec": {
   "display_name": "Python 3 (ipykernel)",
   "language": "python",
   "name": "python3"
  },
  "language_info": {
   "codemirror_mode": {
    "name": "ipython",
    "version": 3
   },
   "file_extension": ".py",
   "mimetype": "text/x-python",
   "name": "python",
   "nbconvert_exporter": "python",
   "pygments_lexer": "ipython3",
   "version": "3.9.7"
  }
 },
 "nbformat": 4,
 "nbformat_minor": 5
}
