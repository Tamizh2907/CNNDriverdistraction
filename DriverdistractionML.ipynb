{
 "cells": [
  {
   "cell_type": "markdown",
   "id": "9de12996",
   "metadata": {},
   "source": [
    "# Driver distraction using Convolutional Neural Networks"
   ]
  },
  {
   "cell_type": "markdown",
   "id": "98f965a4",
   "metadata": {},
   "source": [
    "### Libraries"
   ]
  },
  {
   "cell_type": "code",
   "execution_count": 1,
   "id": "d8a29e26",
   "metadata": {},
   "outputs": [],
   "source": [
    "import os\n",
    "from os.path import join\n",
    "import tensorflow as tf\n",
    "import keras_preprocessing\n",
    "from keras_preprocessing import image\n",
    "from keras_preprocessing.image import ImageDataGenerator\n",
    "import matplotlib.pyplot as plt\n",
    "import pandas as pd"
   ]
  },
  {
   "cell_type": "markdown",
   "id": "d77a516b",
   "metadata": {},
   "source": [
    "### Model"
   ]
  },
  {
   "cell_type": "code",
   "execution_count": 2,
   "id": "fc401350",
   "metadata": {},
   "outputs": [
    {
     "name": "stdout",
     "output_type": "stream",
     "text": [
      "Model: \"sequential\"\n",
      "_________________________________________________________________\n",
      "Layer (type)                 Output Shape              Param #   \n",
      "=================================================================\n",
      "conv2d (Conv2D)              (None, 98, 98, 32)        896       \n",
      "_________________________________________________________________\n",
      "batch_normalization (BatchNo (None, 98, 98, 32)        128       \n",
      "_________________________________________________________________\n",
      "max_pooling2d (MaxPooling2D) (None, 49, 49, 32)        0         \n",
      "_________________________________________________________________\n",
      "conv2d_1 (Conv2D)            (None, 49, 49, 64)        18496     \n",
      "_________________________________________________________________\n",
      "batch_normalization_1 (Batch (None, 49, 49, 64)        256       \n",
      "_________________________________________________________________\n",
      "conv2d_2 (Conv2D)            (None, 49, 49, 64)        36928     \n",
      "_________________________________________________________________\n",
      "batch_normalization_2 (Batch (None, 49, 49, 64)        256       \n",
      "_________________________________________________________________\n",
      "max_pooling2d_1 (MaxPooling2 (None, 24, 24, 64)        0         \n",
      "_________________________________________________________________\n",
      "conv2d_3 (Conv2D)            (None, 24, 24, 128)       73856     \n",
      "_________________________________________________________________\n",
      "batch_normalization_3 (Batch (None, 24, 24, 128)       512       \n",
      "_________________________________________________________________\n",
      "flatten (Flatten)            (None, 73728)             0         \n",
      "_________________________________________________________________\n",
      "dropout (Dropout)            (None, 73728)             0         \n",
      "_________________________________________________________________\n",
      "dense (Dense)                (None, 1024)              75498496  \n",
      "_________________________________________________________________\n",
      "dense_1 (Dense)              (None, 512)               524800    \n",
      "_________________________________________________________________\n",
      "dense_2 (Dense)              (None, 10)                5130      \n",
      "=================================================================\n",
      "Total params: 76,159,754\n",
      "Trainable params: 76,159,178\n",
      "Non-trainable params: 576\n",
      "_________________________________________________________________\n"
     ]
    }
   ],
   "source": [
    "cnnmodel = tf.keras.models.Sequential([\n",
    "    tf.keras.layers.Conv2D(32, (3,3), activation='relu', input_shape=(100, 100, 3)),\n",
    "    tf.keras.layers.BatchNormalization(),\n",
    "    tf.keras.layers.MaxPooling2D(2,2),\n",
    "    tf.keras.layers.Conv2D(64, (3,3), activation='relu', padding = 'same'),\n",
    "    tf.keras.layers.BatchNormalization(),\n",
    "    tf.keras.layers.Conv2D(64, (3,3), activation='relu', padding = 'same'),\n",
    "    tf.keras.layers.BatchNormalization(),\n",
    "    tf.keras.layers.MaxPooling2D(2,2),\n",
    "    tf.keras.layers.Conv2D(128, (3,3), activation='relu', padding = 'same'),\n",
    "    tf.keras.layers.BatchNormalization(),\n",
    "    tf.keras.layers.Flatten(),\n",
    "    tf.keras.layers.Dropout(0.5),\n",
    "    tf.keras.layers.Dense(1024, activation='relu'),\n",
    "    tf.keras.layers.Dense(512, activation='relu'),\n",
    "    tf.keras.layers.Dense(10, activation='softmax')\n",
    "    ])\n",
    "cnnmodel.compile(loss = 'categorical_crossentropy', optimizer = 'adam', metrics = ['accuracy'])\n",
    "cnnmodel.summary()"
   ]
  },
  {
   "cell_type": "markdown",
   "id": "fba8e6cc",
   "metadata": {},
   "source": [
    "### Data preprocessing"
   ]
  },
  {
   "cell_type": "code",
   "execution_count": 3,
   "id": "0a5694ab",
   "metadata": {},
   "outputs": [],
   "source": [
    "workingdir = os.path.abspath('')\n",
    "trainingdirectory = os.path.join(workingdir + '/state-farm-distracted-driver-detection/imgs/train/')"
   ]
  },
  {
   "cell_type": "markdown",
   "id": "85824c96",
   "metadata": {},
   "source": [
    "### Train and validation dataset split"
   ]
  },
  {
   "cell_type": "code",
   "execution_count": 4,
   "id": "01756e44",
   "metadata": {},
   "outputs": [
    {
     "name": "stdout",
     "output_type": "stream",
     "text": [
      "Found 17943 images belonging to 10 classes.\n",
      "Found 4481 images belonging to 10 classes.\n"
     ]
    }
   ],
   "source": [
    "trainingdataimage = ImageDataGenerator(rescale = 1./255, rotation_range = 40, width_shift_range = 0.2, \n",
    "                                       height_shift_range = 0.2, shear_range = 0.2, zoom_range = 0.2, \n",
    "                                       horizontal_flip = True, fill_mode = 'nearest', validation_split = 0.2)\n",
    "trainingset = trainingdataimage.flow_from_directory(trainingdirectory, \n",
    "                                                            target_size = (100, 100), batch_size = 64, \n",
    "                                                            class_mode = 'categorical', subset = 'training', shuffle = True)\n",
    "validationset = trainingdataimage.flow_from_directory(trainingdirectory, \n",
    "                                                            target_size = (100, 100), batch_size = 64, \n",
    "                                                            class_mode = 'categorical', subset = 'validation', shuffle = True)"
   ]
  },
  {
   "cell_type": "markdown",
   "id": "e68e3d5e",
   "metadata": {},
   "source": [
    "### Model fit"
   ]
  },
  {
   "cell_type": "code",
   "execution_count": 5,
   "id": "ac5547ea",
   "metadata": {},
   "outputs": [
    {
     "name": "stdout",
     "output_type": "stream",
     "text": [
      "Epoch 1/60\n",
      "281/281 [==============================] - 114s 391ms/step - loss: 2.3757 - accuracy: 0.1876 - val_loss: 9.6513 - val_accuracy: 0.1033\n",
      "Epoch 2/60\n",
      "281/281 [==============================] - 110s 389ms/step - loss: 1.7734 - accuracy: 0.3377 - val_loss: 2.3622 - val_accuracy: 0.2540\n",
      "Epoch 3/60\n",
      "281/281 [==============================] - 110s 391ms/step - loss: 1.4419 - accuracy: 0.4602 - val_loss: 1.5239 - val_accuracy: 0.4300\n",
      "Epoch 4/60\n",
      "281/281 [==============================] - 109s 389ms/step - loss: 1.1783 - accuracy: 0.5696 - val_loss: 1.1394 - val_accuracy: 0.5876\n",
      "Epoch 5/60\n",
      "281/281 [==============================] - 110s 390ms/step - loss: 0.9663 - accuracy: 0.6582 - val_loss: 1.4248 - val_accuracy: 0.5242\n",
      "Epoch 6/60\n",
      "281/281 [==============================] - 110s 392ms/step - loss: 0.7862 - accuracy: 0.7288 - val_loss: 0.9391 - val_accuracy: 0.6800\n",
      "Epoch 7/60\n",
      "281/281 [==============================] - 110s 390ms/step - loss: 0.6675 - accuracy: 0.7702 - val_loss: 1.0366 - val_accuracy: 0.6637\n",
      "Epoch 8/60\n",
      "281/281 [==============================] - 110s 392ms/step - loss: 0.5899 - accuracy: 0.8018 - val_loss: 0.7342 - val_accuracy: 0.7581\n",
      "Epoch 9/60\n",
      "281/281 [==============================] - 110s 391ms/step - loss: 0.5231 - accuracy: 0.8212 - val_loss: 0.9168 - val_accuracy: 0.7304\n",
      "Epoch 10/60\n",
      "281/281 [==============================] - 110s 390ms/step - loss: 0.4707 - accuracy: 0.8436 - val_loss: 0.9220 - val_accuracy: 0.7364\n",
      "Epoch 11/60\n",
      "281/281 [==============================] - 110s 391ms/step - loss: 0.4250 - accuracy: 0.8570 - val_loss: 0.6162 - val_accuracy: 0.8045\n",
      "Epoch 12/60\n",
      "281/281 [==============================] - 110s 391ms/step - loss: 0.4047 - accuracy: 0.8667 - val_loss: 0.8444 - val_accuracy: 0.7193\n",
      "Epoch 13/60\n",
      "281/281 [==============================] - 110s 391ms/step - loss: 0.3838 - accuracy: 0.8721 - val_loss: 0.7112 - val_accuracy: 0.7706\n",
      "Epoch 14/60\n",
      "281/281 [==============================] - 110s 393ms/step - loss: 0.3554 - accuracy: 0.8835 - val_loss: 0.3851 - val_accuracy: 0.8764\n",
      "Epoch 15/60\n",
      "281/281 [==============================] - 111s 393ms/step - loss: 0.3435 - accuracy: 0.8886 - val_loss: 0.3924 - val_accuracy: 0.8744\n",
      "Epoch 16/60\n",
      "281/281 [==============================] - 111s 392ms/step - loss: 0.3276 - accuracy: 0.8963 - val_loss: 0.5650 - val_accuracy: 0.8201\n",
      "Epoch 17/60\n",
      "281/281 [==============================] - 110s 390ms/step - loss: 0.3142 - accuracy: 0.8964 - val_loss: 0.4193 - val_accuracy: 0.8592\n",
      "Epoch 18/60\n",
      "281/281 [==============================] - 126s 449ms/step - loss: 0.3005 - accuracy: 0.9049 - val_loss: 0.9475 - val_accuracy: 0.7242\n",
      "Epoch 19/60\n",
      "281/281 [==============================] - 113s 401ms/step - loss: 0.2899 - accuracy: 0.9072 - val_loss: 0.4327 - val_accuracy: 0.8596\n",
      "Epoch 20/60\n",
      "281/281 [==============================] - 111s 395ms/step - loss: 0.2800 - accuracy: 0.9116 - val_loss: 0.4845 - val_accuracy: 0.8453\n",
      "Epoch 21/60\n",
      "281/281 [==============================] - 112s 397ms/step - loss: 0.2797 - accuracy: 0.9104 - val_loss: 0.3755 - val_accuracy: 0.8842\n",
      "Epoch 22/60\n",
      "281/281 [==============================] - 110s 392ms/step - loss: 0.2530 - accuracy: 0.9185 - val_loss: 1.1566 - val_accuracy: 0.6987\n",
      "Epoch 23/60\n",
      "281/281 [==============================] - 111s 394ms/step - loss: 0.2626 - accuracy: 0.9151 - val_loss: 0.6235 - val_accuracy: 0.8286\n",
      "Epoch 24/60\n",
      "281/281 [==============================] - 110s 392ms/step - loss: 0.2279 - accuracy: 0.9265 - val_loss: 0.4207 - val_accuracy: 0.8723\n",
      "Epoch 25/60\n",
      "281/281 [==============================] - 111s 394ms/step - loss: 0.2392 - accuracy: 0.9253 - val_loss: 0.3143 - val_accuracy: 0.9005\n",
      "Epoch 26/60\n",
      "281/281 [==============================] - 111s 393ms/step - loss: 0.2376 - accuracy: 0.9278 - val_loss: 0.5371 - val_accuracy: 0.8561\n",
      "Epoch 27/60\n",
      "281/281 [==============================] - 111s 394ms/step - loss: 0.2296 - accuracy: 0.9249 - val_loss: 0.4364 - val_accuracy: 0.8788\n",
      "Epoch 28/60\n",
      "281/281 [==============================] - 112s 399ms/step - loss: 0.2225 - accuracy: 0.9289 - val_loss: 0.7858 - val_accuracy: 0.7884\n",
      "Epoch 29/60\n",
      "281/281 [==============================] - 112s 397ms/step - loss: 0.2192 - accuracy: 0.9294 - val_loss: 0.3663 - val_accuracy: 0.8909\n",
      "Epoch 30/60\n",
      "281/281 [==============================] - 111s 395ms/step - loss: 0.2199 - accuracy: 0.9308 - val_loss: 0.3474 - val_accuracy: 0.8971\n",
      "Epoch 31/60\n",
      "281/281 [==============================] - 111s 393ms/step - loss: 0.1921 - accuracy: 0.9390 - val_loss: 0.5469 - val_accuracy: 0.8422\n",
      "Epoch 32/60\n",
      "281/281 [==============================] - 111s 393ms/step - loss: 0.2081 - accuracy: 0.9347 - val_loss: 0.5347 - val_accuracy: 0.8514\n",
      "Epoch 33/60\n",
      "281/281 [==============================] - 111s 394ms/step - loss: 0.1980 - accuracy: 0.9399 - val_loss: 0.3975 - val_accuracy: 0.8802\n",
      "Epoch 34/60\n",
      "281/281 [==============================] - 111s 393ms/step - loss: 0.1897 - accuracy: 0.9445 - val_loss: 0.3922 - val_accuracy: 0.8875\n",
      "Epoch 35/60\n",
      "281/281 [==============================] - 111s 393ms/step - loss: 0.1963 - accuracy: 0.9390 - val_loss: 0.3592 - val_accuracy: 0.8947\n",
      "Epoch 36/60\n",
      "281/281 [==============================] - 111s 394ms/step - loss: 0.1797 - accuracy: 0.9461 - val_loss: 0.4619 - val_accuracy: 0.8657\n",
      "Epoch 37/60\n",
      "281/281 [==============================] - 110s 390ms/step - loss: 0.1861 - accuracy: 0.9432 - val_loss: 0.2377 - val_accuracy: 0.9264\n",
      "Epoch 38/60\n",
      "281/281 [==============================] - 111s 395ms/step - loss: 0.1728 - accuracy: 0.9461 - val_loss: 0.2581 - val_accuracy: 0.9252\n",
      "Epoch 39/60\n",
      "281/281 [==============================] - 111s 396ms/step - loss: 0.1836 - accuracy: 0.9458 - val_loss: 0.2636 - val_accuracy: 0.9154\n",
      "Epoch 40/60\n",
      "281/281 [==============================] - 110s 392ms/step - loss: 0.1711 - accuracy: 0.9468 - val_loss: 0.6902 - val_accuracy: 0.8137\n",
      "Epoch 41/60\n",
      "281/281 [==============================] - 111s 394ms/step - loss: 0.1743 - accuracy: 0.9476 - val_loss: 0.4437 - val_accuracy: 0.8661\n",
      "Epoch 42/60\n",
      "281/281 [==============================] - 111s 393ms/step - loss: 0.1788 - accuracy: 0.9447 - val_loss: 0.5826 - val_accuracy: 0.8333\n",
      "Epoch 43/60\n",
      "281/281 [==============================] - 110s 391ms/step - loss: 0.1790 - accuracy: 0.9473 - val_loss: 0.3731 - val_accuracy: 0.8822\n",
      "Epoch 44/60\n",
      "281/281 [==============================] - 111s 395ms/step - loss: 0.1613 - accuracy: 0.9521 - val_loss: 0.2974 - val_accuracy: 0.9210\n",
      "Epoch 45/60\n",
      "281/281 [==============================] - 113s 403ms/step - loss: 0.1425 - accuracy: 0.9546 - val_loss: 0.3171 - val_accuracy: 0.9052\n",
      "Epoch 46/60\n",
      "281/281 [==============================] - 118s 418ms/step - loss: 0.1465 - accuracy: 0.9531 - val_loss: 0.3139 - val_accuracy: 0.9065\n",
      "Epoch 47/60\n",
      "281/281 [==============================] - 116s 413ms/step - loss: 0.1480 - accuracy: 0.9529 - val_loss: 0.2613 - val_accuracy: 0.9165\n",
      "Epoch 48/60\n",
      "281/281 [==============================] - 114s 406ms/step - loss: 0.1512 - accuracy: 0.9539 - val_loss: 0.2615 - val_accuracy: 0.9324\n",
      "Epoch 49/60\n",
      "281/281 [==============================] - 114s 406ms/step - loss: 0.1450 - accuracy: 0.9558 - val_loss: 0.2617 - val_accuracy: 0.9243\n",
      "Epoch 50/60\n",
      "281/281 [==============================] - 117s 415ms/step - loss: 0.1535 - accuracy: 0.9526 - val_loss: 0.2505 - val_accuracy: 0.9284\n",
      "Epoch 51/60\n",
      "281/281 [==============================] - 116s 411ms/step - loss: 0.1430 - accuracy: 0.9564 - val_loss: 0.2140 - val_accuracy: 0.9344\n",
      "Epoch 52/60\n",
      "281/281 [==============================] - 114s 405ms/step - loss: 0.1474 - accuracy: 0.9563 - val_loss: 0.2797 - val_accuracy: 0.9199\n",
      "Epoch 53/60\n",
      "281/281 [==============================] - 115s 410ms/step - loss: 0.1425 - accuracy: 0.9572 - val_loss: 0.2915 - val_accuracy: 0.9074\n",
      "Epoch 54/60\n",
      "281/281 [==============================] - 115s 409ms/step - loss: 0.1470 - accuracy: 0.9568 - val_loss: 0.1852 - val_accuracy: 0.9453\n",
      "Epoch 55/60\n",
      "281/281 [==============================] - 115s 409ms/step - loss: 0.1298 - accuracy: 0.9589 - val_loss: 0.1680 - val_accuracy: 0.9543\n",
      "Epoch 56/60\n",
      "281/281 [==============================] - 115s 407ms/step - loss: 0.1350 - accuracy: 0.9583 - val_loss: 0.2776 - val_accuracy: 0.9110\n"
     ]
    },
    {
     "name": "stdout",
     "output_type": "stream",
     "text": [
      "Epoch 57/60\n",
      "281/281 [==============================] - 115s 409ms/step - loss: 0.1307 - accuracy: 0.9595 - val_loss: 0.4642 - val_accuracy: 0.9016\n",
      "Epoch 58/60\n",
      "281/281 [==============================] - 115s 410ms/step - loss: 0.1422 - accuracy: 0.9569 - val_loss: 0.2760 - val_accuracy: 0.9177\n",
      "Epoch 59/60\n",
      "281/281 [==============================] - 115s 408ms/step - loss: 0.1331 - accuracy: 0.9596 - val_loss: 0.3813 - val_accuracy: 0.9027\n",
      "Epoch 60/60\n",
      "281/281 [==============================] - 115s 407ms/step - loss: 0.1243 - accuracy: 0.9631 - val_loss: 0.2915 - val_accuracy: 0.9223\n"
     ]
    }
   ],
   "source": [
    "history =  cnnmodel.fit(trainingset, epochs = 60, steps_per_epoch = len(trainingset), \n",
    "                             validation_data = validationset, verbose = 1, validation_steps = len(validationset))"
   ]
  },
  {
   "cell_type": "markdown",
   "id": "23afa68c",
   "metadata": {},
   "source": [
    "### Plot to show training accuracy vs validation accuracy"
   ]
  },
  {
   "cell_type": "code",
   "execution_count": 6,
   "id": "c0975f21",
   "metadata": {},
   "outputs": [
    {
     "data": {
      "image/png": "[encoded data removed]",
      "text/plain": [
       "<Figure size 432x288 with 1 Axes>"
      ]
     },
     "metadata": {
      "needs_background": "light"
     },
     "output_type": "display_data"
    },
    {
     "data": {
      "text/plain": [
       "<Figure size 432x288 with 0 Axes>"
      ]
     },
     "metadata": {},
     "output_type": "display_data"
    },
    {
     "data": {
      "image/png": "[encoded data removed]",
      "text/plain": [
       "<Figure size 432x288 with 1 Axes>"
      ]
     },
     "metadata": {
      "needs_background": "light"
     },
     "output_type": "display_data"
    },
    {
     "data": {
      "text/plain": [
       "<Figure size 432x288 with 0 Axes>"
      ]
     },
     "metadata": {},
     "output_type": "display_data"
    }
   ],
   "source": [
    "acc = history.history['accuracy']\n",
    "val_acc = history.history['val_accuracy']\n",
    "loss = history.history['loss']\n",
    "val_loss = history.history['val_loss']\n",
    "\n",
    "epochs = range(len(acc))\n",
    "\n",
    "plt.plot(epochs, acc, 'r', label='Training accuracy')\n",
    "plt.plot(epochs, val_acc, 'b', label='Validation accuracy')\n",
    "plt.title('Training and validation accuracy')\n",
    "plt.legend(loc=0)\n",
    "plt.figure()\n",
    "plt.show()\n",
    "\n",
    "plt.plot(epochs, loss, 'r', label='Training loss')\n",
    "plt.plot(epochs, val_loss, 'b', label='Validation loss')\n",
    "plt.title('Training and validation loss')\n",
    "plt.legend(loc=0)\n",
    "plt.figure()\n",
    "plt.show()"
   ]
  },
  {
   "cell_type": "markdown",
   "id": "bdb3d4ba",
   "metadata": {},
   "source": [
    "### Test data prediction"
   ]
  },
  {
   "cell_type": "code",
   "execution_count": 49,
   "id": "f52303e7",
   "metadata": {},
   "outputs": [
    {
     "name": "stdout",
     "output_type": "stream",
     "text": [
      "Found 79726 images belonging to 1 classes.\n",
      "2492/2492 [==============================] - 247s 99ms/step\n"
     ]
    }
   ],
   "source": [
    "testparentdirectory = os.path.join(workingdir + '/state-farm-distracted-driver-detection/imgs/')\n",
    "testdataimage = ImageDataGenerator(rescale = 1./255)\n",
    "testdata = testdataimage.flow_from_directory(testparentdirectory, classes=['test'], target_size = (100,100))\n",
    "testoutput = cnnmodel.predict(testdata, verbose = 1)"
   ]
  },
  {
   "cell_type": "markdown",
   "id": "aa363868",
   "metadata": {},
   "source": [
    "### Preparing output dataframe"
   ]
  },
  {
   "cell_type": "code",
   "execution_count": 50,
   "id": "59bc9cc4",
   "metadata": {},
   "outputs": [],
   "source": [
    "specimencsv = pd.read_csv(os.path.join(workingdir + '/state-farm-distracted-driver-detection/sample_submission.csv'))\n",
    "result = {'img':list(specimencsv.values[:,0]),}\n",
    "for value in range(0,10):\n",
    "    result['c' + str(value)] = list(testoutput[:,value])"
   ]
  },
  {
   "cell_type": "code",
   "execution_count": 53,
   "id": "68a31623",
   "metadata": {},
   "outputs": [],
   "source": [
    "testoutput = pd.DataFrame(result)"
   ]
  },
  {
   "cell_type": "markdown",
   "id": "284115e3",
   "metadata": {},
   "source": [
    "### Exploratory data analysis"
   ]
  },
  {
   "cell_type": "code",
   "execution_count": 57,
   "id": "d8716e97",
   "metadata": {},
   "outputs": [
    {
     "data": {
      "text/plain": [
       "Text(0.5, 1.0, 'Number of images per class in training data')"
      ]
     },
     "execution_count": 57,
     "metadata": {},
     "output_type": "execute_result"
    },
    {
     "data": {
      "image/png": "[encoded data removed]",
      "text/plain": [
       "<Figure size 432x288 with 1 Axes>"
      ]
     },
     "metadata": {
      "needs_background": "light"
     },
     "output_type": "display_data"
    }
   ],
   "source": [
    "imagescsv = pd.read_csv(os.path.join(workingdir + '/state-farm-distracted-driver-detection/driver_imgs_list.csv'))\n",
    "imagescsv.classname.value_counts().plot(kind = 'bar', label = 'index')\n",
    "plt.title('Number of images per class in training data')"
   ]
  },
  {
   "cell_type": "markdown",
   "id": "d18f4fa9",
   "metadata": {},
   "source": [
    "### Preparing output file"
   ]
  },
  {
   "cell_type": "code",
   "execution_count": 60,
   "id": "46aad030",
   "metadata": {},
   "outputs": [],
   "source": [
    "testoutput.to_csv('Testoutput.csv', index = False, encoding='utf-8')"
   ]
  }
 ],
 "metadata": {
  "kernelspec": {
   "display_name": "Python 3 (ipykernel)",
   "language": "python",
   "name": "python3"
  },
  "language_info": {
   "codemirror_mode": {
    "name": "ipython",
    "version": 3
   },
   "file_extension": ".py",
   "mimetype": "text/x-python",
   "name": "python",
   "nbconvert_exporter": "python",
   "pygments_lexer": "ipython3",
   "version": "3.9.7"
  }
 },
 "nbformat": 4,
 "nbformat_minor": 5
}
