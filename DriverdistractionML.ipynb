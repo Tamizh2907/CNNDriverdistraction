{
 "cells": [
  {
   "cell_type": "markdown",
   "id": "9de12996",
   "metadata": {},
   "source": [
    "# Driver distraction using Convolutional Neural Networks"
   ]
  },
  {
   "cell_type": "markdown",
   "id": "98f965a4",
   "metadata": {},
   "source": [
    "### Libraries"
   ]
  },
  {
   "cell_type": "code",
   "execution_count": 1,
   "id": "d8a29e26",
   "metadata": {},
   "outputs": [],
   "source": [
    "import os\n",
    "from os.path import join\n",
    "import tensorflow as tf\n",
    "import keras_preprocessing\n",
    "from keras_preprocessing import image\n",
    "from keras_preprocessing.image import ImageDataGenerator\n",
    "import matplotlib.pyplot as plt\n",
    "import pandas as pd"
   ]
  },
  {
   "cell_type": "markdown",
   "id": "d77a516b",
   "metadata": {},
   "source": [
    "### Model"
   ]
  },
  {
   "cell_type": "code",
   "execution_count": 2,
   "id": "fc401350",
   "metadata": {},
   "outputs": [
    {
     "name": "stdout",
     "output_type": "stream",
     "text": [
      "Model: \"sequential\"\n",
      "_________________________________________________________________\n",
      "Layer (type)                 Output Shape              Param #   \n",
      "=================================================================\n",
      "conv2d (Conv2D)              (None, 98, 98, 32)        896       \n",
      "_________________________________________________________________\n",
      "batch_normalization (BatchNo (None, 98, 98, 32)        128       \n",
      "_________________________________________________________________\n",
      "max_pooling2d (MaxPooling2D) (None, 49, 49, 32)        0         \n",
      "_________________________________________________________________\n",
      "conv2d_1 (Conv2D)            (None, 49, 49, 64)        18496     \n",
      "_________________________________________________________________\n",
      "batch_normalization_1 (Batch (None, 49, 49, 64)        256       \n",
      "_________________________________________________________________\n",
      "conv2d_2 (Conv2D)            (None, 49, 49, 64)        36928     \n",
      "_________________________________________________________________\n",
      "batch_normalization_2 (Batch (None, 49, 49, 64)        256       \n",
      "_________________________________________________________________\n",
      "max_pooling2d_1 (MaxPooling2 (None, 24, 24, 64)        0         \n",
      "_________________________________________________________________\n",
      "conv2d_3 (Conv2D)            (None, 24, 24, 128)       73856     \n",
      "_________________________________________________________________\n",
      "batch_normalization_3 (Batch (None, 24, 24, 128)       512       \n",
      "_________________________________________________________________\n",
      "flatten (Flatten)            (None, 73728)             0         \n",
      "_________________________________________________________________\n",
      "dropout (Dropout)            (None, 73728)             0         \n",
      "_________________________________________________________________\n",
      "dense (Dense)                (None, 1024)              75498496  \n",
      "_________________________________________________________________\n",
      "dense_1 (Dense)              (None, 512)               524800    \n",
      "_________________________________________________________________\n",
      "dense_2 (Dense)              (None, 10)                5130      \n",
      "=================================================================\n",
      "Total params: 76,159,754\n",
      "Trainable params: 76,159,178\n",
      "Non-trainable params: 576\n",
      "_________________________________________________________________\n"
     ]
    }
   ],
   "source": [
    "cnnmodel = tf.keras.models.Sequential([\n",
    "    tf.keras.layers.Conv2D(32, (3,3), activation='relu', input_shape=(100, 100, 3)),\n",
    "    tf.keras.layers.BatchNormalization(),\n",
    "    tf.keras.layers.MaxPooling2D(2,2),\n",
    "    tf.keras.layers.Conv2D(64, (3,3), activation='relu', padding = 'same'),\n",
    "    tf.keras.layers.BatchNormalization(),\n",
    "    tf.keras.layers.Conv2D(64, (3,3), activation='relu', padding = 'same'),\n",
    "    tf.keras.layers.BatchNormalization(),\n",
    "    tf.keras.layers.MaxPooling2D(2,2),\n",
    "    tf.keras.layers.Conv2D(128, (3,3), activation='relu', padding = 'same'),\n",
    "    tf.keras.layers.BatchNormalization(),\n",
    "    tf.keras.layers.Flatten(),\n",
    "    tf.keras.layers.Dropout(0.5),\n",
    "    tf.keras.layers.Dense(1024, activation='relu'),\n",
    "    tf.keras.layers.Dense(512, activation='relu'),\n",
    "    tf.keras.layers.Dense(10, activation='softmax')\n",
    "    ])\n",
    "cnnmodel.compile(loss = 'categorical_crossentropy', optimizer = 'adam', metrics = ['accuracy'])\n",
    "cnnmodel.summary()"
   ]
  },
  {
   "cell_type": "markdown",
   "id": "fba8e6cc",
   "metadata": {},
   "source": [
    "### Data preprocessing"
   ]
  },
  {
   "cell_type": "code",
   "execution_count": 3,
   "id": "0a5694ab",
   "metadata": {},
   "outputs": [],
   "source": [
    "workingdir = os.path.abspath('')\n",
    "trainingdirectory = os.path.join(workingdir + '/state-farm-distracted-driver-detection/imgs/train/')"
   ]
  },
  {
   "cell_type": "markdown",
   "id": "85824c96",
   "metadata": {},
   "source": [
    "### Train and validation dataset split"
   ]
  },
  {
   "cell_type": "code",
   "execution_count": 4,
   "id": "01756e44",
   "metadata": {},
   "outputs": [
    {
     "name": "stdout",
     "output_type": "stream",
     "text": [
      "Found 17943 images belonging to 10 classes.\n",
      "Found 4481 images belonging to 10 classes.\n"
     ]
    }
   ],
   "source": [
    "trainingdataimage = ImageDataGenerator(rescale = 1./255, rotation_range = 40, width_shift_range = 0.2, \n",
    "                                       height_shift_range = 0.2, shear_range = 0.2, zoom_range = 0.2, \n",
    "                                       horizontal_flip = True, fill_mode = 'nearest', validation_split = 0.2)\n",
    "trainingset = trainingdataimage.flow_from_directory(trainingdirectory, \n",
    "                                                            target_size = (100, 100), batch_size = 64, \n",
    "                                                            class_mode = 'categorical', subset = 'training', shuffle = True)\n",
    "validationset = trainingdataimage.flow_from_directory(trainingdirectory, \n",
    "                                                            target_size = (100, 100), batch_size = 64, \n",
    "                                                            class_mode = 'categorical', subset = 'validation', shuffle = True)"
   ]
  },
  {
   "cell_type": "markdown",
   "id": "e68e3d5e",
   "metadata": {},
   "source": [
    "### Model fit"
   ]
  },
  {
   "cell_type": "code",
   "execution_count": 5,
   "id": "ac5547ea",
   "metadata": {},
   "outputs": [
    {
     "name": "stdout",
     "output_type": "stream",
     "text": [
      "Epoch 1/20\n",
      "281/281 [==============================] - 121s 415ms/step - loss: 2.4891 - accuracy: 0.1519 - val_loss: 5.3542 - val_accuracy: 0.1031\n",
      "Epoch 2/20\n",
      "281/281 [==============================] - 115s 409ms/step - loss: 1.8611 - accuracy: 0.3040 - val_loss: 2.3018 - val_accuracy: 0.2118\n",
      "Epoch 3/20\n",
      "281/281 [==============================] - 115s 410ms/step - loss: 1.4531 - accuracy: 0.4581 - val_loss: 1.4161 - val_accuracy: 0.4919\n",
      "Epoch 4/20\n",
      "281/281 [==============================] - 113s 403ms/step - loss: 1.1842 - accuracy: 0.5686 - val_loss: 1.4268 - val_accuracy: 0.4992\n",
      "Epoch 5/20\n",
      "281/281 [==============================] - 113s 401ms/step - loss: 0.9590 - accuracy: 0.6610 - val_loss: 1.0059 - val_accuracy: 0.6583\n",
      "Epoch 6/20\n",
      "281/281 [==============================] - 113s 403ms/step - loss: 0.7818 - accuracy: 0.7309 - val_loss: 0.9718 - val_accuracy: 0.6722\n",
      "Epoch 7/20\n",
      "281/281 [==============================] - 114s 405ms/step - loss: 0.6644 - accuracy: 0.7718 - val_loss: 0.8809 - val_accuracy: 0.7164\n",
      "Epoch 8/20\n",
      "281/281 [==============================] - 113s 403ms/step - loss: 0.5797 - accuracy: 0.8018 - val_loss: 0.7964 - val_accuracy: 0.7418\n",
      "Epoch 9/20\n",
      "281/281 [==============================] - 113s 401ms/step - loss: 0.5209 - accuracy: 0.8257 - val_loss: 1.4569 - val_accuracy: 0.6333\n",
      "Epoch 10/20\n",
      "281/281 [==============================] - 113s 400ms/step - loss: 0.4778 - accuracy: 0.8402 - val_loss: 1.0449 - val_accuracy: 0.6666\n",
      "Epoch 11/20\n",
      "281/281 [==============================] - 113s 403ms/step - loss: 0.4313 - accuracy: 0.8575 - val_loss: 1.3048 - val_accuracy: 0.6282\n",
      "Epoch 12/20\n",
      "281/281 [==============================] - 113s 402ms/step - loss: 0.4053 - accuracy: 0.8659 - val_loss: 0.4421 - val_accuracy: 0.8500\n",
      "Epoch 13/20\n",
      "281/281 [==============================] - 113s 401ms/step - loss: 0.3815 - accuracy: 0.8753 - val_loss: 0.5662 - val_accuracy: 0.8262\n",
      "Epoch 14/20\n",
      "281/281 [==============================] - 114s 405ms/step - loss: 0.3684 - accuracy: 0.8787 - val_loss: 0.3828 - val_accuracy: 0.8737\n",
      "Epoch 15/20\n",
      "281/281 [==============================] - 113s 402ms/step - loss: 0.3567 - accuracy: 0.8850 - val_loss: 0.3878 - val_accuracy: 0.8710\n",
      "Epoch 16/20\n",
      "281/281 [==============================] - 112s 400ms/step - loss: 0.3209 - accuracy: 0.8935 - val_loss: 0.3510 - val_accuracy: 0.8846\n",
      "Epoch 17/20\n",
      "281/281 [==============================] - 113s 401ms/step - loss: 0.3253 - accuracy: 0.8957 - val_loss: 0.6183 - val_accuracy: 0.8204\n",
      "Epoch 18/20\n",
      "281/281 [==============================] - 113s 403ms/step - loss: 0.3081 - accuracy: 0.9006 - val_loss: 0.3442 - val_accuracy: 0.8922\n",
      "Epoch 19/20\n",
      "281/281 [==============================] - 113s 402ms/step - loss: 0.2917 - accuracy: 0.9075 - val_loss: 0.5054 - val_accuracy: 0.8362\n",
      "Epoch 20/20\n",
      "281/281 [==============================] - 113s 403ms/step - loss: 0.2784 - accuracy: 0.9096 - val_loss: 0.4649 - val_accuracy: 0.8661\n"
     ]
    }
   ],
   "source": [
    "history =  cnnmodel.fit(trainingset, epochs = 20, steps_per_epoch = len(trainingset), \n",
    "                             validation_data = validationset, verbose = 1, validation_steps = len(validationset))"
   ]
  },
  {
   "cell_type": "markdown",
   "id": "23afa68c",
   "metadata": {},
   "source": [
    "### Plot to show training accuracy vs validation accuracy"
   ]
  },
  {
   "cell_type": "code",
   "execution_count": 6,
   "id": "c0975f21",
   "metadata": {},
   "outputs": [
    {
     "data": {
      "image/png": "[encoded data removed]",
      "text/plain": [
       "<Figure size 432x288 with 1 Axes>"
      ]
     },
     "metadata": {
      "needs_background": "light"
     },
     "output_type": "display_data"
    },
    {
     "data": {
      "text/plain": [
       "<Figure size 432x288 with 0 Axes>"
      ]
     },
     "metadata": {},
     "output_type": "display_data"
    },
    {
     "data": {
      "image/png": "[encoded data removed]",
      "text/plain": [
       "<Figure size 432x288 with 1 Axes>"
      ]
     },
     "metadata": {
      "needs_background": "light"
     },
     "output_type": "display_data"
    },
    {
     "data": {
      "text/plain": [
       "<Figure size 432x288 with 0 Axes>"
      ]
     },
     "metadata": {},
     "output_type": "display_data"
    }
   ],
   "source": [
    "acc = history.history['accuracy']\n",
    "val_acc = history.history['val_accuracy']\n",
    "loss = history.history['loss']\n",
    "val_loss = history.history['val_loss']\n",
    "\n",
    "epochs = range(len(acc))\n",
    "\n",
    "plt.plot(epochs, acc, 'r', label='Training accuracy')\n",
    "plt.plot(epochs, val_acc, 'b', label='Validation accuracy')\n",
    "plt.title('Training and validation accuracy')\n",
    "plt.legend(loc=0)\n",
    "plt.figure()\n",
    "plt.show()\n",
    "\n",
    "plt.plot(epochs, loss, 'r', label='Training loss')\n",
    "plt.plot(epochs, val_loss, 'b', label='Validation loss')\n",
    "plt.title('Training and validation loss')\n",
    "plt.legend(loc=0)\n",
    "plt.figure()\n",
    "plt.show()"
   ]
  },
  {
   "cell_type": "markdown",
   "id": "bdb3d4ba",
   "metadata": {},
   "source": [
    "### Test data prediction"
   ]
  },
  {
   "cell_type": "code",
   "execution_count": 7,
   "id": "f52303e7",
   "metadata": {},
   "outputs": [
    {
     "name": "stdout",
     "output_type": "stream",
     "text": [
      "Found 79726 images belonging to 1 classes.\n",
      "2492/2492 [==============================] - 391s 157ms/step\n"
     ]
    }
   ],
   "source": [
    "testparentdirectory = os.path.join(workingdir + '/state-farm-distracted-driver-detection/imgs/')\n",
    "testdataimage = ImageDataGenerator(rescale = 1./255)\n",
    "testdata = testdataimage.flow_from_directory(testparentdirectory, classes=['test'], target_size = (100,100))\n",
    "testoutput = cnnmodel.predict(testdata, verbose = 1)"
   ]
  },
  {
   "cell_type": "markdown",
   "id": "aa363868",
   "metadata": {},
   "source": [
    "### Preparing output file"
   ]
  },
  {
   "cell_type": "code",
   "execution_count": 8,
   "id": "59bc9cc4",
   "metadata": {},
   "outputs": [],
   "source": [
    "specimencsv = pd.read_csv(os.path.join(workingdir + '/state-farm-distracted-driver-detection/sample_submission.csv'))\n",
    "result = {'img':list(specimencsv.values[:,0]),}\n",
    "for value in range(0,10):\n",
    "    result['c' + str(value)] = list(testoutput[:,value])"
   ]
  },
  {
   "cell_type": "code",
   "execution_count": 9,
   "id": "68a31623",
   "metadata": {},
   "outputs": [
    {
     "data": {
      "text/html": [
       "<div>\n",
       "<style scoped>\n",
       "    .dataframe tbody tr th:only-of-type {\n",
       "        vertical-align: middle;\n",
       "    }\n",
       "\n",
       "    .dataframe tbody tr th {\n",
       "        vertical-align: top;\n",
       "    }\n",
       "\n",
       "    .dataframe thead th {\n",
       "        text-align: right;\n",
       "    }\n",
       "</style>\n",
       "<table border=\"1\" class=\"dataframe\">\n",
       "  <thead>\n",
       "    <tr style=\"text-align: right;\">\n",
       "      <th></th>\n",
       "      <th>img</th>\n",
       "      <th>c0</th>\n",
       "      <th>c1</th>\n",
       "      <th>c2</th>\n",
       "      <th>c3</th>\n",
       "      <th>c4</th>\n",
       "      <th>c5</th>\n",
       "      <th>c6</th>\n",
       "      <th>c7</th>\n",
       "      <th>c8</th>\n",
       "      <th>c9</th>\n",
       "    </tr>\n",
       "  </thead>\n",
       "  <tbody>\n",
       "    <tr>\n",
       "      <th>0</th>\n",
       "      <td>img_1.jpg</td>\n",
       "      <td>3.211677e-03</td>\n",
       "      <td>2.253305e-04</td>\n",
       "      <td>2.706290e-05</td>\n",
       "      <td>3.837896e-04</td>\n",
       "      <td>8.444262e-04</td>\n",
       "      <td>3.112747e-02</td>\n",
       "      <td>3.217655e-04</td>\n",
       "      <td>7.533603e-03</td>\n",
       "      <td>1.627765e-01</td>\n",
       "      <td>7.935484e-01</td>\n",
       "    </tr>\n",
       "    <tr>\n",
       "      <th>1</th>\n",
       "      <td>img_10.jpg</td>\n",
       "      <td>9.579306e-03</td>\n",
       "      <td>1.249673e-05</td>\n",
       "      <td>7.653095e-05</td>\n",
       "      <td>2.879370e-02</td>\n",
       "      <td>7.807218e-01</td>\n",
       "      <td>1.140907e-01</td>\n",
       "      <td>7.712898e-04</td>\n",
       "      <td>2.398459e-04</td>\n",
       "      <td>2.378620e-02</td>\n",
       "      <td>4.192819e-02</td>\n",
       "    </tr>\n",
       "    <tr>\n",
       "      <th>2</th>\n",
       "      <td>img_100.jpg</td>\n",
       "      <td>1.477287e-04</td>\n",
       "      <td>1.068845e-01</td>\n",
       "      <td>8.859293e-01</td>\n",
       "      <td>2.756896e-07</td>\n",
       "      <td>8.835165e-08</td>\n",
       "      <td>1.400013e-07</td>\n",
       "      <td>3.113528e-03</td>\n",
       "      <td>9.908845e-04</td>\n",
       "      <td>8.339800e-04</td>\n",
       "      <td>2.099437e-03</td>\n",
       "    </tr>\n",
       "    <tr>\n",
       "      <th>3</th>\n",
       "      <td>img_1000.jpg</td>\n",
       "      <td>2.282440e-22</td>\n",
       "      <td>1.180335e-23</td>\n",
       "      <td>4.059517e-26</td>\n",
       "      <td>1.906144e-19</td>\n",
       "      <td>3.026286e-26</td>\n",
       "      <td>1.000000e+00</td>\n",
       "      <td>1.464939e-22</td>\n",
       "      <td>5.956021e-19</td>\n",
       "      <td>3.098776e-17</td>\n",
       "      <td>1.986643e-17</td>\n",
       "    </tr>\n",
       "    <tr>\n",
       "      <th>4</th>\n",
       "      <td>img_100000.jpg</td>\n",
       "      <td>1.691018e-04</td>\n",
       "      <td>1.174124e-07</td>\n",
       "      <td>2.573739e-07</td>\n",
       "      <td>3.437204e-04</td>\n",
       "      <td>2.252719e-05</td>\n",
       "      <td>9.963211e-01</td>\n",
       "      <td>1.580590e-06</td>\n",
       "      <td>3.917137e-05</td>\n",
       "      <td>6.144463e-04</td>\n",
       "      <td>2.487912e-03</td>\n",
       "    </tr>\n",
       "  </tbody>\n",
       "</table>\n",
       "</div>"
      ],
      "text/plain": [
       "              img            c0            c1            c2            c3  \\\n",
       "0       img_1.jpg  3.211677e-03  2.253305e-04  2.706290e-05  3.837896e-04   \n",
       "1      img_10.jpg  9.579306e-03  1.249673e-05  7.653095e-05  2.879370e-02   \n",
       "2     img_100.jpg  1.477287e-04  1.068845e-01  8.859293e-01  2.756896e-07   \n",
       "3    img_1000.jpg  2.282440e-22  1.180335e-23  4.059517e-26  1.906144e-19   \n",
       "4  img_100000.jpg  1.691018e-04  1.174124e-07  2.573739e-07  3.437204e-04   \n",
       "\n",
       "             c4            c5            c6            c7            c8  \\\n",
       "0  8.444262e-04  3.112747e-02  3.217655e-04  7.533603e-03  1.627765e-01   \n",
       "1  7.807218e-01  1.140907e-01  7.712898e-04  2.398459e-04  2.378620e-02   \n",
       "2  8.835165e-08  1.400013e-07  3.113528e-03  9.908845e-04  8.339800e-04   \n",
       "3  3.026286e-26  1.000000e+00  1.464939e-22  5.956021e-19  3.098776e-17   \n",
       "4  2.252719e-05  9.963211e-01  1.580590e-06  3.917137e-05  6.144463e-04   \n",
       "\n",
       "             c9  \n",
       "0  7.935484e-01  \n",
       "1  4.192819e-02  \n",
       "2  2.099437e-03  \n",
       "3  1.986643e-17  \n",
       "4  2.487912e-03  "
      ]
     },
     "execution_count": 9,
     "metadata": {},
     "output_type": "execute_result"
    }
   ],
   "source": [
    "testoutput = pd.DataFrame(result)\n",
    "testoutput.head()"
   ]
  }
 ],
 "metadata": {
  "kernelspec": {
   "display_name": "Python 3 (ipykernel)",
   "language": "python",
   "name": "python3"
  },
  "language_info": {
   "codemirror_mode": {
    "name": "ipython",
    "version": 3
   },
   "file_extension": ".py",
   "mimetype": "text/x-python",
   "name": "python",
   "nbconvert_exporter": "python",
   "pygments_lexer": "ipython3",
   "version": "3.9.7"
  }
 },
 "nbformat": 4,
 "nbformat_minor": 5
}
