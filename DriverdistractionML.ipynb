{
 "cells": [
  {
   "cell_type": "markdown",
   "id": "9de12996",
   "metadata": {},
   "source": [
    "# Driver distraction using Convolutional Neural Networks"
   ]
  },
  {
   "cell_type": "markdown",
   "id": "98f965a4",
   "metadata": {},
   "source": [
    "### Libraries"
   ]
  },
  {
   "cell_type": "code",
   "execution_count": 43,
   "id": "d8a29e26",
   "metadata": {},
   "outputs": [],
   "source": [
    "import os\n",
    "import matplotlib.pyplot as plt\n",
    "import tensorflow as tf\n",
    "import keras_preprocessing\n",
    "from keras_preprocessing import image\n",
    "from keras_preprocessing.image import ImageDataGenerator\n",
    "from tensorflow.keras.layers import Dense, Flatten, Conv2D, Dropout\n",
    "from tensorflow.keras import Model\n",
    "from tensorflow.keras import datasets, layers, models\n",
    "import pandas as pd"
   ]
  },
  {
   "cell_type": "markdown",
   "id": "fba8e6cc",
   "metadata": {},
   "source": [
    "### Data preprocessing"
   ]
  },
  {
   "cell_type": "code",
   "execution_count": 3,
   "id": "96ccb89e",
   "metadata": {},
   "outputs": [
    {
     "name": "stdout",
     "output_type": "stream",
     "text": [
      "C:\\Users\\thami\\Documents\\GitHub\\MachineLearningDriverdistraction\n"
     ]
    }
   ],
   "source": [
    "workingdir = os.path.abspath('')\n",
    "print(workingdir)\n",
    "trainingdirectory = os.path.join(workingdir + '/state-farm-distracted-driver-detection/imgs/train/')\n",
    "trainingdataimage = ImageDataGenerator(rescale = 1./255, rotation_range = 40, width_shift_range = 0.2, height_shift_range = 0.2,\n",
    "                                       shear_range = 0.2, zoom_range = 0.2, horizontal_flip = True, fill_mode = 'nearest',\n",
    "                                       validation_split = 0.2)"
   ]
  },
  {
   "cell_type": "markdown",
   "id": "9b4f72d0",
   "metadata": {},
   "source": [
    "### Training and Validation dataset split"
   ]
  },
  {
   "cell_type": "code",
   "execution_count": 4,
   "id": "ae2e3afd",
   "metadata": {},
   "outputs": [
    {
     "name": "stdout",
     "output_type": "stream",
     "text": [
      "Found 17943 images belonging to 10 classes.\n",
      "Found 4481 images belonging to 10 classes.\n"
     ]
    }
   ],
   "source": [
    "trainingset = trainingdataimage.flow_from_directory(trainingdirectory, target_size = (150,150), \n",
    "                                                          class_mode = 'categorical', batch_size = 64, subset = 'training')\n",
    "\n",
    "validationset = trainingdataimage.flow_from_directory(trainingdirectory, target_size=(150,150), \n",
    "                                                            class_mode = 'categorical', batch_size = 64, subset = 'validation')"
   ]
  },
  {
   "cell_type": "markdown",
   "id": "d77a516b",
   "metadata": {},
   "source": [
    "### Model"
   ]
  },
  {
   "cell_type": "code",
   "execution_count": 5,
   "id": "fc401350",
   "metadata": {},
   "outputs": [
    {
     "name": "stdout",
     "output_type": "stream",
     "text": [
      "Model: \"sequential\"\n",
      "_________________________________________________________________\n",
      "Layer (type)                 Output Shape              Param #   \n",
      "=================================================================\n",
      "conv2d (Conv2D)              (None, 148, 148, 64)      1792      \n",
      "_________________________________________________________________\n",
      "max_pooling2d (MaxPooling2D) (None, 74, 74, 64)        0         \n",
      "_________________________________________________________________\n",
      "conv2d_1 (Conv2D)            (None, 72, 72, 64)        36928     \n",
      "_________________________________________________________________\n",
      "max_pooling2d_1 (MaxPooling2 (None, 36, 36, 64)        0         \n",
      "_________________________________________________________________\n",
      "conv2d_2 (Conv2D)            (None, 34, 34, 128)       73856     \n",
      "_________________________________________________________________\n",
      "max_pooling2d_2 (MaxPooling2 (None, 17, 17, 128)       0         \n",
      "_________________________________________________________________\n",
      "conv2d_3 (Conv2D)            (None, 15, 15, 128)       147584    \n",
      "_________________________________________________________________\n",
      "max_pooling2d_3 (MaxPooling2 (None, 7, 7, 128)         0         \n",
      "_________________________________________________________________\n",
      "flatten (Flatten)            (None, 6272)              0         \n",
      "_________________________________________________________________\n",
      "dropout (Dropout)            (None, 6272)              0         \n",
      "_________________________________________________________________\n",
      "dense (Dense)                (None, 512)               3211776   \n",
      "_________________________________________________________________\n",
      "dense_1 (Dense)              (None, 10)                5130      \n",
      "_________________________________________________________________\n",
      "dense_2 (Dense)              (None, 10)                110       \n",
      "=================================================================\n",
      "Total params: 3,477,176\n",
      "Trainable params: 3,477,176\n",
      "Non-trainable params: 0\n",
      "_________________________________________________________________\n",
      "Epoch 1/50\n",
      "100/100 [==============================] - 148s 1s/step - loss: 2.3308 - accuracy: 0.1103 - val_loss: 2.3023 - val_accuracy: 0.1000\n",
      "Epoch 2/50\n",
      "100/100 [==============================] - 145s 1s/step - loss: 2.3020 - accuracy: 0.1057 - val_loss: 2.2996 - val_accuracy: 0.1147\n",
      "Epoch 3/50\n",
      "100/100 [==============================] - 145s 1s/step - loss: 2.3045 - accuracy: 0.1084 - val_loss: 2.2941 - val_accuracy: 0.1203\n",
      "Epoch 4/50\n",
      "100/100 [==============================] - 148s 1s/step - loss: 2.2930 - accuracy: 0.1203 - val_loss: 2.2732 - val_accuracy: 0.1428\n",
      "Epoch 5/50\n",
      "100/100 [==============================] - 148s 1s/step - loss: 2.2531 - accuracy: 0.1547 - val_loss: 2.1847 - val_accuracy: 0.1884\n",
      "Epoch 6/50\n",
      "100/100 [==============================] - 149s 1s/step - loss: 2.1446 - accuracy: 0.2055 - val_loss: 2.0898 - val_accuracy: 0.2116\n",
      "Epoch 7/50\n",
      "100/100 [==============================] - 148s 1s/step - loss: 2.0372 - accuracy: 0.2320 - val_loss: 1.9869 - val_accuracy: 0.2550\n",
      "Epoch 8/50\n",
      "100/100 [==============================] - 149s 1s/step - loss: 1.9473 - accuracy: 0.2794 - val_loss: 1.8417 - val_accuracy: 0.3166\n",
      "Epoch 9/50\n",
      "100/100 [==============================] - 149s 1s/step - loss: 1.8610 - accuracy: 0.3090 - val_loss: 1.6933 - val_accuracy: 0.3856\n",
      "Epoch 10/50\n",
      "100/100 [==============================] - 156s 2s/step - loss: 1.7455 - accuracy: 0.3518 - val_loss: 1.6062 - val_accuracy: 0.4053\n",
      "Epoch 11/50\n",
      "100/100 [==============================] - 183s 2s/step - loss: 1.6958 - accuracy: 0.3787 - val_loss: 1.5524 - val_accuracy: 0.4322\n",
      "Epoch 12/50\n",
      "100/100 [==============================] - 144s 1s/step - loss: 1.6111 - accuracy: 0.3995 - val_loss: 1.4612 - val_accuracy: 0.4694\n",
      "Epoch 13/50\n",
      "100/100 [==============================] - 144s 1s/step - loss: 1.5370 - accuracy: 0.4380 - val_loss: 1.4352 - val_accuracy: 0.4694\n",
      "Epoch 14/50\n",
      "100/100 [==============================] - 144s 1s/step - loss: 1.4794 - accuracy: 0.4598 - val_loss: 1.2890 - val_accuracy: 0.5250\n",
      "Epoch 15/50\n",
      "100/100 [==============================] - 144s 1s/step - loss: 1.3905 - accuracy: 0.4955 - val_loss: 1.2458 - val_accuracy: 0.5509\n",
      "Epoch 16/50\n",
      "100/100 [==============================] - 145s 1s/step - loss: 1.3623 - accuracy: 0.5042 - val_loss: 1.2900 - val_accuracy: 0.5375\n",
      "Epoch 17/50\n",
      "100/100 [==============================] - 144s 1s/step - loss: 1.3143 - accuracy: 0.5281 - val_loss: 1.1446 - val_accuracy: 0.6009\n",
      "Epoch 18/50\n",
      "100/100 [==============================] - 143s 1s/step - loss: 1.2094 - accuracy: 0.5617 - val_loss: 1.1908 - val_accuracy: 0.5669\n",
      "Epoch 19/50\n",
      "100/100 [==============================] - 143s 1s/step - loss: 1.1849 - accuracy: 0.5834 - val_loss: 1.0886 - val_accuracy: 0.6306\n",
      "Epoch 20/50\n",
      "100/100 [==============================] - 143s 1s/step - loss: 1.1087 - accuracy: 0.6083 - val_loss: 0.8641 - val_accuracy: 0.7075\n",
      "Epoch 21/50\n",
      "100/100 [==============================] - 143s 1s/step - loss: 1.0793 - accuracy: 0.6294 - val_loss: 0.8890 - val_accuracy: 0.6913\n",
      "Epoch 22/50\n",
      "100/100 [==============================] - 144s 1s/step - loss: 1.0067 - accuracy: 0.6494 - val_loss: 0.8440 - val_accuracy: 0.7194\n",
      "Epoch 23/50\n",
      "100/100 [==============================] - 143s 1s/step - loss: 0.9647 - accuracy: 0.6633 - val_loss: 0.8117 - val_accuracy: 0.7194\n",
      "Epoch 24/50\n",
      "100/100 [==============================] - 143s 1s/step - loss: 0.8944 - accuracy: 0.6870 - val_loss: 0.7304 - val_accuracy: 0.7387\n",
      "Epoch 25/50\n",
      "100/100 [==============================] - 143s 1s/step - loss: 0.8522 - accuracy: 0.7053 - val_loss: 0.8389 - val_accuracy: 0.7063\n",
      "Epoch 26/50\n",
      "100/100 [==============================] - 143s 1s/step - loss: 0.8535 - accuracy: 0.7102 - val_loss: 0.6407 - val_accuracy: 0.7884\n",
      "Epoch 27/50\n",
      "100/100 [==============================] - 143s 1s/step - loss: 0.7804 - accuracy: 0.7286 - val_loss: 0.5671 - val_accuracy: 0.8097\n",
      "Epoch 28/50\n",
      "100/100 [==============================] - 143s 1s/step - loss: 0.7783 - accuracy: 0.7434 - val_loss: 0.5197 - val_accuracy: 0.8288\n",
      "Epoch 29/50\n",
      "100/100 [==============================] - 143s 1s/step - loss: 0.7095 - accuracy: 0.7575 - val_loss: 0.5713 - val_accuracy: 0.7997\n",
      "Epoch 30/50\n",
      "100/100 [==============================] - 143s 1s/step - loss: 0.7021 - accuracy: 0.7620 - val_loss: 0.5810 - val_accuracy: 0.7994\n",
      "Epoch 31/50\n",
      "100/100 [==============================] - 143s 1s/step - loss: 0.6831 - accuracy: 0.7739 - val_loss: 0.4747 - val_accuracy: 0.8459\n",
      "Epoch 32/50\n",
      "100/100 [==============================] - 142s 1s/step - loss: 0.6515 - accuracy: 0.7776 - val_loss: 0.5364 - val_accuracy: 0.8156\n",
      "Epoch 33/50\n",
      "100/100 [==============================] - 143s 1s/step - loss: 0.6447 - accuracy: 0.7781 - val_loss: 0.4682 - val_accuracy: 0.8350\n",
      "Epoch 34/50\n",
      "100/100 [==============================] - 143s 1s/step - loss: 0.6200 - accuracy: 0.7898 - val_loss: 0.4794 - val_accuracy: 0.8366\n",
      "Epoch 35/50\n",
      "100/100 [==============================] - 143s 1s/step - loss: 0.6148 - accuracy: 0.7912 - val_loss: 0.5215 - val_accuracy: 0.8200\n",
      "Epoch 36/50\n",
      "100/100 [==============================] - 152s 2s/step - loss: 0.6089 - accuracy: 0.7948 - val_loss: 0.4176 - val_accuracy: 0.8616\n",
      "Epoch 37/50\n",
      "100/100 [==============================] - 151s 2s/step - loss: 0.5620 - accuracy: 0.8086 - val_loss: 0.5789 - val_accuracy: 0.8037\n",
      "Epoch 38/50\n",
      "100/100 [==============================] - 144s 1s/step - loss: 0.5839 - accuracy: 0.8091 - val_loss: 0.3660 - val_accuracy: 0.8806\n",
      "Epoch 39/50\n",
      "100/100 [==============================] - 143s 1s/step - loss: 0.5380 - accuracy: 0.8171 - val_loss: 0.4532 - val_accuracy: 0.8481\n",
      "Epoch 40/50\n",
      "100/100 [==============================] - 144s 1s/step - loss: 0.5381 - accuracy: 0.8227 - val_loss: 0.4494 - val_accuracy: 0.8531\n",
      "Epoch 41/50\n",
      "100/100 [==============================] - 144s 1s/step - loss: 0.5176 - accuracy: 0.8258 - val_loss: 0.3703 - val_accuracy: 0.8772\n",
      "Epoch 42/50\n",
      "100/100 [==============================] - 145s 1s/step - loss: 0.5129 - accuracy: 0.8261 - val_loss: 0.4424 - val_accuracy: 0.8647\n",
      "Epoch 43/50\n"
     ]
    },
    {
     "name": "stdout",
     "output_type": "stream",
     "text": [
      "100/100 [==============================] - 144s 1s/step - loss: 0.5122 - accuracy: 0.8284 - val_loss: 0.3766 - val_accuracy: 0.8759\n",
      "Epoch 44/50\n",
      "100/100 [==============================] - 145s 1s/step - loss: 0.5070 - accuracy: 0.8284 - val_loss: 0.4306 - val_accuracy: 0.8522\n",
      "Epoch 45/50\n",
      "100/100 [==============================] - 144s 1s/step - loss: 0.4773 - accuracy: 0.8372 - val_loss: 0.3356 - val_accuracy: 0.8894\n",
      "Epoch 46/50\n",
      "100/100 [==============================] - 145s 1s/step - loss: 0.4663 - accuracy: 0.8409 - val_loss: 0.3696 - val_accuracy: 0.8856\n",
      "Epoch 47/50\n",
      "100/100 [==============================] - 144s 1s/step - loss: 0.4761 - accuracy: 0.8381 - val_loss: 0.3904 - val_accuracy: 0.8616\n",
      "Epoch 48/50\n",
      "100/100 [==============================] - 145s 1s/step - loss: 0.4388 - accuracy: 0.8511 - val_loss: 0.3770 - val_accuracy: 0.8781\n",
      "Epoch 49/50\n",
      "100/100 [==============================] - 144s 1s/step - loss: 0.4683 - accuracy: 0.8505 - val_loss: 0.3417 - val_accuracy: 0.8875\n",
      "Epoch 50/50\n",
      "100/100 [==============================] - 145s 1s/step - loss: 0.4570 - accuracy: 0.8523 - val_loss: 0.2976 - val_accuracy: 0.9053\n"
     ]
    }
   ],
   "source": [
    "model = models.Sequential()\n",
    "model.add(layers.Conv2D(64, (3, 3), activation='relu', input_shape=(150, 150, 3)))\n",
    "model.add(layers.MaxPooling2D((2, 2)))\n",
    "model.add(layers.Conv2D(64, (3, 3), activation='relu'))\n",
    "model.add(layers.MaxPooling2D((2, 2)))\n",
    "model.add(layers.Conv2D(128, (3, 3), activation='relu'))\n",
    "model.add(layers.MaxPooling2D(2,2))\n",
    "model.add(layers.Conv2D(128, (3, 3), activation='relu'))\n",
    "model.add(layers.MaxPooling2D(2,2))\n",
    "model.add(layers.Flatten())\n",
    "model.add(Dropout(0.5))\n",
    "model.add(layers.Dense(512, activation='relu'))\n",
    "model.add(layers.Dense(10))\n",
    "model.add(Dense(10, activation='softmax'))\n",
    "model.summary()\n",
    "\n",
    "model.compile(loss = 'categorical_crossentropy', optimizer='rmsprop', metrics=['accuracy'])\n",
    "\n",
    "history = model.fit(trainingset, epochs=50, steps_per_epoch=100, validation_data = validationset, \n",
    "                    verbose = 1, validation_steps=50)\n"
   ]
  },
  {
   "cell_type": "markdown",
   "id": "23afa68c",
   "metadata": {},
   "source": [
    "### Plot to show training accuracy vs validation accuracy"
   ]
  },
  {
   "cell_type": "code",
   "execution_count": 6,
   "id": "c0975f21",
   "metadata": {},
   "outputs": [
    {
     "data": {
      "image/png": "[encoded data removed]",
      "text/plain": [
       "<Figure size 432x288 with 1 Axes>"
      ]
     },
     "metadata": {
      "needs_background": "light"
     },
     "output_type": "display_data"
    },
    {
     "data": {
      "text/plain": [
       "<Figure size 432x288 with 0 Axes>"
      ]
     },
     "metadata": {},
     "output_type": "display_data"
    }
   ],
   "source": [
    "acc = history.history['accuracy']\n",
    "val_acc = history.history['val_accuracy']\n",
    "loss = history.history['loss']\n",
    "val_loss = history.history['val_loss']\n",
    "\n",
    "epochs = range(len(acc))\n",
    "\n",
    "plt.plot(epochs, acc, 'r', label='Training accuracy')\n",
    "plt.plot(epochs, val_acc, 'b', label='Validation accuracy')\n",
    "plt.title('Training and validation accuracy')\n",
    "plt.legend(loc=0)\n",
    "plt.figure()\n",
    "\n",
    "\n",
    "plt.show()"
   ]
  },
  {
   "cell_type": "markdown",
   "id": "28c63f8a",
   "metadata": {},
   "source": [
    "### Test data prediction"
   ]
  },
  {
   "cell_type": "code",
   "execution_count": 29,
   "id": "f52303e7",
   "metadata": {},
   "outputs": [],
   "source": [
    "testparentdirectory = os.path.join(workingdir + '/state-farm-distracted-driver-detection/imgs/')"
   ]
  },
  {
   "cell_type": "code",
   "execution_count": 30,
   "id": "59bc9cc4",
   "metadata": {},
   "outputs": [
    {
     "name": "stdout",
     "output_type": "stream",
     "text": [
      "Found 79726 images belonging to 1 classes.\n"
     ]
    }
   ],
   "source": [
    "testdataimage = ImageDataGenerator(rescale = 1./255)\n",
    "testdata = testdataimage.flow_from_directory(testparentdirectory, classes=['test'], target_size = (150,150))"
   ]
  },
  {
   "cell_type": "code",
   "execution_count": 62,
   "id": "68a31623",
   "metadata": {},
   "outputs": [
    {
     "name": "stdout",
     "output_type": "stream",
     "text": [
      "2492/2492 [==============================] - 546s 219ms/step\n"
     ]
    }
   ],
   "source": [
    "testouput = model.predict(testdata, verbose = 1)"
   ]
  },
  {
   "cell_type": "code",
   "execution_count": 63,
   "id": "66131fd2",
   "metadata": {},
   "outputs": [
    {
     "data": {
      "text/plain": [
       "(79726, 10)"
      ]
     },
     "execution_count": 63,
     "metadata": {},
     "output_type": "execute_result"
    }
   ],
   "source": [
    "testouput.shape"
   ]
  },
  {
   "cell_type": "code",
   "execution_count": 64,
   "id": "a26b2f93",
   "metadata": {},
   "outputs": [
    {
     "data": {
      "text/plain": [
       "array([0.2369506 , 0.16271244, 0.01147346, 0.08651805, 0.1851528 ,\n",
       "       0.01063938, 0.06195443, 0.0074054 , 0.0218142 , 0.21537918],\n",
       "      dtype=float32)"
      ]
     },
     "execution_count": 64,
     "metadata": {},
     "output_type": "execute_result"
    }
   ],
   "source": [
    "testouput[1]"
   ]
  },
  {
   "cell_type": "code",
   "execution_count": 44,
   "id": "b1d05636",
   "metadata": {},
   "outputs": [],
   "source": [
    "specimencsv = pd.read_csv(os.path.join(workingdir + '/state-farm-distracted-driver-detection/sample_submission.csv'))"
   ]
  },
  {
   "cell_type": "code",
   "execution_count": 67,
   "id": "2a16d9ed",
   "metadata": {},
   "outputs": [],
   "source": [
    "result = {'img':list(specimencsv.values[:,0]),}"
   ]
  },
  {
   "cell_type": "code",
   "execution_count": 68,
   "id": "8dd7d0ea",
   "metadata": {},
   "outputs": [],
   "source": [
    "for value in range(0,10):\n",
    "    result['c' + str(value)] = list(testouput[:,value])"
   ]
  },
  {
   "cell_type": "code",
   "execution_count": 69,
   "id": "03140b68",
   "metadata": {},
   "outputs": [],
   "source": [
    "testouput = pd.DataFrame(result)"
   ]
  },
  {
   "cell_type": "code",
   "execution_count": 70,
   "id": "968adf88",
   "metadata": {},
   "outputs": [
    {
     "data": {
      "text/html": [
       "<div>\n",
       "<style scoped>\n",
       "    .dataframe tbody tr th:only-of-type {\n",
       "        vertical-align: middle;\n",
       "    }\n",
       "\n",
       "    .dataframe tbody tr th {\n",
       "        vertical-align: top;\n",
       "    }\n",
       "\n",
       "    .dataframe thead th {\n",
       "        text-align: right;\n",
       "    }\n",
       "</style>\n",
       "<table border=\"1\" class=\"dataframe\">\n",
       "  <thead>\n",
       "    <tr style=\"text-align: right;\">\n",
       "      <th></th>\n",
       "      <th>img</th>\n",
       "      <th>c0</th>\n",
       "      <th>c1</th>\n",
       "      <th>c2</th>\n",
       "      <th>c3</th>\n",
       "      <th>c4</th>\n",
       "      <th>c5</th>\n",
       "      <th>c6</th>\n",
       "      <th>c7</th>\n",
       "      <th>c8</th>\n",
       "      <th>c9</th>\n",
       "    </tr>\n",
       "  </thead>\n",
       "  <tbody>\n",
       "    <tr>\n",
       "      <th>0</th>\n",
       "      <td>img_1.jpg</td>\n",
       "      <td>6.779991e-04</td>\n",
       "      <td>9.833091e-01</td>\n",
       "      <td>1.686877e-05</td>\n",
       "      <td>1.855881e-05</td>\n",
       "      <td>8.263311e-06</td>\n",
       "      <td>2.018039e-05</td>\n",
       "      <td>1.017706e-02</td>\n",
       "      <td>5.597639e-06</td>\n",
       "      <td>4.904526e-03</td>\n",
       "      <td>8.619146e-04</td>\n",
       "    </tr>\n",
       "    <tr>\n",
       "      <th>1</th>\n",
       "      <td>img_10.jpg</td>\n",
       "      <td>2.369506e-01</td>\n",
       "      <td>1.627124e-01</td>\n",
       "      <td>1.147346e-02</td>\n",
       "      <td>8.651805e-02</td>\n",
       "      <td>1.851528e-01</td>\n",
       "      <td>1.063938e-02</td>\n",
       "      <td>6.195443e-02</td>\n",
       "      <td>7.405402e-03</td>\n",
       "      <td>2.181420e-02</td>\n",
       "      <td>2.153792e-01</td>\n",
       "    </tr>\n",
       "    <tr>\n",
       "      <th>2</th>\n",
       "      <td>img_100.jpg</td>\n",
       "      <td>4.010080e-11</td>\n",
       "      <td>1.076306e-17</td>\n",
       "      <td>9.433393e-21</td>\n",
       "      <td>1.000000e+00</td>\n",
       "      <td>1.537855e-13</td>\n",
       "      <td>6.842889e-15</td>\n",
       "      <td>6.411311e-13</td>\n",
       "      <td>2.351963e-17</td>\n",
       "      <td>8.150876e-15</td>\n",
       "      <td>1.062815e-10</td>\n",
       "    </tr>\n",
       "    <tr>\n",
       "      <th>3</th>\n",
       "      <td>img_1000.jpg</td>\n",
       "      <td>3.254809e-04</td>\n",
       "      <td>1.411007e-06</td>\n",
       "      <td>1.263017e-14</td>\n",
       "      <td>9.995173e-01</td>\n",
       "      <td>1.672356e-07</td>\n",
       "      <td>1.914289e-07</td>\n",
       "      <td>5.424031e-08</td>\n",
       "      <td>3.458463e-10</td>\n",
       "      <td>1.381763e-07</td>\n",
       "      <td>1.552293e-04</td>\n",
       "    </tr>\n",
       "    <tr>\n",
       "      <th>4</th>\n",
       "      <td>img_100000.jpg</td>\n",
       "      <td>7.610538e-06</td>\n",
       "      <td>2.347705e-11</td>\n",
       "      <td>7.363772e-13</td>\n",
       "      <td>1.224684e-08</td>\n",
       "      <td>7.238879e-11</td>\n",
       "      <td>9.851471e-01</td>\n",
       "      <td>6.453410e-09</td>\n",
       "      <td>2.502527e-09</td>\n",
       "      <td>2.423564e-06</td>\n",
       "      <td>1.484291e-02</td>\n",
       "    </tr>\n",
       "  </tbody>\n",
       "</table>\n",
       "</div>"
      ],
      "text/plain": [
       "              img            c0            c1            c2            c3  \\\n",
       "0       img_1.jpg  6.779991e-04  9.833091e-01  1.686877e-05  1.855881e-05   \n",
       "1      img_10.jpg  2.369506e-01  1.627124e-01  1.147346e-02  8.651805e-02   \n",
       "2     img_100.jpg  4.010080e-11  1.076306e-17  9.433393e-21  1.000000e+00   \n",
       "3    img_1000.jpg  3.254809e-04  1.411007e-06  1.263017e-14  9.995173e-01   \n",
       "4  img_100000.jpg  7.610538e-06  2.347705e-11  7.363772e-13  1.224684e-08   \n",
       "\n",
       "             c4            c5            c6            c7            c8  \\\n",
       "0  8.263311e-06  2.018039e-05  1.017706e-02  5.597639e-06  4.904526e-03   \n",
       "1  1.851528e-01  1.063938e-02  6.195443e-02  7.405402e-03  2.181420e-02   \n",
       "2  1.537855e-13  6.842889e-15  6.411311e-13  2.351963e-17  8.150876e-15   \n",
       "3  1.672356e-07  1.914289e-07  5.424031e-08  3.458463e-10  1.381763e-07   \n",
       "4  7.238879e-11  9.851471e-01  6.453410e-09  2.502527e-09  2.423564e-06   \n",
       "\n",
       "             c9  \n",
       "0  8.619146e-04  \n",
       "1  2.153792e-01  \n",
       "2  1.062815e-10  \n",
       "3  1.552293e-04  \n",
       "4  1.484291e-02  "
      ]
     },
     "execution_count": 70,
     "metadata": {},
     "output_type": "execute_result"
    }
   ],
   "source": [
    "testouput.head()"
   ]
  },
  {
   "cell_type": "code",
   "execution_count": null,
   "id": "de8e7e9e",
   "metadata": {},
   "outputs": [],
   "source": []
  }
 ],
 "metadata": {
  "kernelspec": {
   "display_name": "Python 3 (ipykernel)",
   "language": "python",
   "name": "python3"
  },
  "language_info": {
   "codemirror_mode": {
    "name": "ipython",
    "version": 3
   },
   "file_extension": ".py",
   "mimetype": "text/x-python",
   "name": "python",
   "nbconvert_exporter": "python",
   "pygments_lexer": "ipython3",
   "version": "3.9.7"
  }
 },
 "nbformat": 4,
 "nbformat_minor": 5
}
